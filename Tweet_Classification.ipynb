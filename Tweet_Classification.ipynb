{
  "nbformat": 4,
  "nbformat_minor": 0,
  "metadata": {
    "colab": {
      "name": "Tweet Classification",
      "version": "0.3.2",
      "provenance": [],
      "collapsed_sections": [],
      "include_colab_link": true
    },
    "kernelspec": {
      "name": "python3",
      "display_name": "Python 3"
    },
    "accelerator": "GPU"
  },
  "cells": [
    {
      "cell_type": "markdown",
      "metadata": {
        "id": "view-in-github",
        "colab_type": "text"
      },
      "source": [
        "<a href=\"https://colab.research.google.com/github/manashpratim/Tweet-Classification/blob/master/Tweet_Classification.ipynb\" target=\"_parent\"><img src=\"https://colab.research.google.com/assets/colab-badge.svg\" alt=\"Open In Colab\"/></a>"
      ]
    },
    {
      "cell_type": "code",
      "metadata": {
        "id": "QzGirNa_di7b",
        "colab_type": "code",
        "outputId": "3c331fad-d13b-4bfc-c86f-2b31ba49ce58",
        "colab": {
          "base_uri": "https://localhost:8080/",
          "height": 421
        }
      },
      "source": [
        "#Downloading the Datasets\n",
        "!wget --no-check-certificate \\\n",
        "      \"https://datahack-prod.s3.amazonaws.com/train_file/train_E6oV3lV.csv\"\\\n",
        "      -O \"/tmp/train_tweets.csv\"\n",
        "\n",
        "!wget --no-check-certificate \\\n",
        "      \"https://datahack-prod.s3.amazonaws.com/test_file/test_tweets_anuFYb8.csv\"\\\n",
        "      -O \"/tmp/test_tweets.csv\""
      ],
      "execution_count": 1,
      "outputs": [
        {
          "output_type": "stream",
          "text": [
            "--2019-07-10 02:04:27--  https://datahack-prod.s3.amazonaws.com/train_file/train_E6oV3lV.csv\n",
            "Resolving datahack-prod.s3.amazonaws.com (datahack-prod.s3.amazonaws.com)... 52.219.66.32\n",
            "Connecting to datahack-prod.s3.amazonaws.com (datahack-prod.s3.amazonaws.com)|52.219.66.32|:443... connected.\n",
            "HTTP request sent, awaiting response... 200 OK\n",
            "Length: 3103165 (3.0M) [text/csv]\n",
            "Saving to: ‘/tmp/train_tweets.csv’\n",
            "\n",
            "/tmp/train_tweets.c 100%[===================>]   2.96M  1.71MB/s    in 1.7s    \n",
            "\n",
            "2019-07-10 02:04:30 (1.71 MB/s) - ‘/tmp/train_tweets.csv’ saved [3103165/3103165]\n",
            "\n",
            "--2019-07-10 02:04:36--  https://datahack-prod.s3.amazonaws.com/test_file/test_tweets_anuFYb8.csv\n",
            "Resolving datahack-prod.s3.amazonaws.com (datahack-prod.s3.amazonaws.com)... 52.219.66.0\n",
            "Connecting to datahack-prod.s3.amazonaws.com (datahack-prod.s3.amazonaws.com)|52.219.66.0|:443... connected.\n",
            "HTTP request sent, awaiting response... 200 OK\n",
            "Length: 1635543 (1.6M) [text/csv]\n",
            "Saving to: ‘/tmp/test_tweets.csv’\n",
            "\n",
            "/tmp/test_tweets.cs 100%[===================>]   1.56M   299KB/s    in 6.9s    \n",
            "\n",
            "2019-07-10 02:04:44 (231 KB/s) - ‘/tmp/test_tweets.csv’ saved [1635543/1635543]\n",
            "\n"
          ],
          "name": "stdout"
        }
      ]
    },
    {
      "cell_type": "code",
      "metadata": {
        "id": "jaONxCuud6mb",
        "colab_type": "code",
        "colab": {}
      },
      "source": [
        "import numpy as np\n",
        "import pandas as pd\n",
        "df1=pd.read_csv('/tmp/train_tweets.csv')\n",
        "df2=pd.read_csv('/tmp/test_tweets.csv')"
      ],
      "execution_count": 0,
      "outputs": []
    },
    {
      "cell_type": "code",
      "metadata": {
        "id": "VwVt4sNoeXXD",
        "colab_type": "code",
        "outputId": "83283bd4-e43a-41a5-d61a-29518068cc9b",
        "colab": {
          "base_uri": "https://localhost:8080/",
          "height": 206
        }
      },
      "source": [
        "df1.head(5)"
      ],
      "execution_count": 3,
      "outputs": [
        {
          "output_type": "execute_result",
          "data": {
            "text/html": [
              "<div>\n",
              "<style scoped>\n",
              "    .dataframe tbody tr th:only-of-type {\n",
              "        vertical-align: middle;\n",
              "    }\n",
              "\n",
              "    .dataframe tbody tr th {\n",
              "        vertical-align: top;\n",
              "    }\n",
              "\n",
              "    .dataframe thead th {\n",
              "        text-align: right;\n",
              "    }\n",
              "</style>\n",
              "<table border=\"1\" class=\"dataframe\">\n",
              "  <thead>\n",
              "    <tr style=\"text-align: right;\">\n",
              "      <th></th>\n",
              "      <th>id</th>\n",
              "      <th>label</th>\n",
              "      <th>tweet</th>\n",
              "    </tr>\n",
              "  </thead>\n",
              "  <tbody>\n",
              "    <tr>\n",
              "      <th>0</th>\n",
              "      <td>1</td>\n",
              "      <td>0</td>\n",
              "      <td>@user when a father is dysfunctional and is s...</td>\n",
              "    </tr>\n",
              "    <tr>\n",
              "      <th>1</th>\n",
              "      <td>2</td>\n",
              "      <td>0</td>\n",
              "      <td>@user @user thanks for #lyft credit i can't us...</td>\n",
              "    </tr>\n",
              "    <tr>\n",
              "      <th>2</th>\n",
              "      <td>3</td>\n",
              "      <td>0</td>\n",
              "      <td>bihday your majesty</td>\n",
              "    </tr>\n",
              "    <tr>\n",
              "      <th>3</th>\n",
              "      <td>4</td>\n",
              "      <td>0</td>\n",
              "      <td>#model   i love u take with u all the time in ...</td>\n",
              "    </tr>\n",
              "    <tr>\n",
              "      <th>4</th>\n",
              "      <td>5</td>\n",
              "      <td>0</td>\n",
              "      <td>factsguide: society now    #motivation</td>\n",
              "    </tr>\n",
              "  </tbody>\n",
              "</table>\n",
              "</div>"
            ],
            "text/plain": [
              "   id  label                                              tweet\n",
              "0   1      0   @user when a father is dysfunctional and is s...\n",
              "1   2      0  @user @user thanks for #lyft credit i can't us...\n",
              "2   3      0                                bihday your majesty\n",
              "3   4      0  #model   i love u take with u all the time in ...\n",
              "4   5      0             factsguide: society now    #motivation"
            ]
          },
          "metadata": {
            "tags": []
          },
          "execution_count": 3
        }
      ]
    },
    {
      "cell_type": "code",
      "metadata": {
        "id": "XEWMXosli8Lp",
        "colab_type": "code",
        "outputId": "bad91719-85bd-4c4d-f188-ed3f40233ab8",
        "colab": {
          "base_uri": "https://localhost:8080/",
          "height": 368
        }
      },
      "source": [
        "import numpy as np\n",
        "import matplotlib.pyplot as plt\n",
        "plt.bar([0,1], df1['label'].value_counts(), width=0.5, bottom=None, align='center', data=df1)\n",
        "plt.title('Labels Distribution')\n",
        "plt.xlabel('Labels')\n",
        "plt.ylabel('Frequency')\n",
        "plt.xticks(np.arange(0, 1, step=2))\n",
        "print('Labels Distribution:\\n',df1['label'].value_counts())"
      ],
      "execution_count": 4,
      "outputs": [
        {
          "output_type": "stream",
          "text": [
            "Labels Distribution:\n",
            " 0    29720\n",
            "1     2242\n",
            "Name: label, dtype: int64\n"
          ],
          "name": "stdout"
        },
        {
          "output_type": "display_data",
          "data": {
            "image/png": "[encoded data removed]",
            "text/plain": [
              "<Figure size 432x288 with 1 Axes>"
            ]
          },
          "metadata": {
            "tags": []
          }
        }
      ]
    },
    {
      "cell_type": "markdown",
      "metadata": {
        "id": "0_A3QNfaAPUb",
        "colab_type": "text"
      },
      "source": [
        "# **Clearly this is an imbalanced dataset.**"
      ]
    },
    {
      "cell_type": "code",
      "metadata": {
        "id": "uvNhObZlAYLM",
        "colab_type": "code",
        "colab": {
          "base_uri": "https://localhost:8080/",
          "height": 90
        },
        "outputId": "6233d91f-7ed0-4bfe-be53-bea22f89f529"
      },
      "source": [
        "#Functions for Preprocessing the Dataset\n",
        "import nltk\n",
        "from nltk import word_tokenize\n",
        "nltk.download('stopwords')\n",
        "from nltk.corpus import stopwords\n",
        "nltk.download('punkt')\n",
        "stop_words = set(stopwords.words('english'))\n",
        "\n",
        "\n",
        "def mystopwords(text):\n",
        "    return ' '.join([w for w in word_tokenize(text) if not w in stop_words])\n",
        "\n",
        "import re\n",
        "def clean_text(string):\n",
        "  clean=re.sub('@[a-zA-Z0-9_]+', '', string) #removing usernames from tweets\n",
        "  clean=re.sub('[\\n]',' ',clean) #remove newline character\n",
        "  clean=re.sub('[^a-zA-Z\\']',' ',clean) #remove non alphabetic characters\n",
        "  #clean=mystopwords(clean) #remove stopwords\n",
        "  clean=' '.join(clean.split()) #removing unnecessary spaces\n",
        "  return clean"
      ],
      "execution_count": 5,
      "outputs": [
        {
          "output_type": "stream",
          "text": [
            "[nltk_data] Downloading package stopwords to /root/nltk_data...\n",
            "[nltk_data]   Unzipping corpora/stopwords.zip.\n",
            "[nltk_data] Downloading package punkt to /root/nltk_data...\n",
            "[nltk_data]   Unzipping tokenizers/punkt.zip.\n"
          ],
          "name": "stdout"
        }
      ]
    },
    {
      "cell_type": "code",
      "metadata": {
        "id": "2y_qchZaB9_d",
        "colab_type": "code",
        "colab": {}
      },
      "source": [
        "#Cleaning the train data and separating the texts and labels\n",
        "tweets=[]\n",
        "labels=[]\n",
        "for i in range(len(df1)):\n",
        "  labels.append(df1['label'][i])\n",
        "  tweets.append(clean_text(df1['tweet'][i]))\n",
        "  \n",
        "#Cleaning the test data \n",
        "test_tweets=[]\n",
        "for i in range(len(df2)):\n",
        "  test_tweets.append(clean_text(df2['tweet'][i]))\n"
      ],
      "execution_count": 0,
      "outputs": []
    },
    {
      "cell_type": "code",
      "metadata": {
        "id": "SCb2AJspF0vj",
        "colab_type": "code",
        "colab": {
          "base_uri": "https://localhost:8080/",
          "height": 54
        },
        "outputId": "51096beb-29cd-43b1-dfb7-618cc57273f9"
      },
      "source": [
        "#Example of a tweet before and after cleaning\n",
        "print('Tweet before cleaning: ',df1['tweet'][1])\n",
        "print('Tweet after cleaning: ',tweets[1])"
      ],
      "execution_count": 7,
      "outputs": [
        {
          "output_type": "stream",
          "text": [
            "Tweet before cleaning:  @user @user thanks for #lyft credit i can't use cause they don't offer wheelchair vans in pdx.    #disapointed #getthanked\n",
            "Tweet after cleaning:  thanks for lyft credit i can't use cause they don't offer wheelchair vans in pdx disapointed getthanked\n"
          ],
          "name": "stdout"
        }
      ]
    },
    {
      "cell_type": "code",
      "metadata": {
        "id": "RToLFGBuHzS4",
        "colab_type": "code",
        "colab": {
          "base_uri": "https://localhost:8080/",
          "height": 487
        },
        "outputId": "d2d7acde-22cc-4803-bdff-045ef0e41b61"
      },
      "source": [
        "#Word Cloud of Top 100 Words in Hate Tweets \n",
        "from wordcloud import WordCloud, STOPWORDS  \n",
        "hate=[]\n",
        "for i in range(len(tweets)): #getting the hate tweets\n",
        "  if labels[i]==1:\n",
        "    hate.append(tweets[i])\n",
        "h=' '.join(hate)  #transforming the list of hate tweets into a single sentence\n",
        "h=mystopwords(h)\n",
        "stopwords = set(STOPWORDS)\n",
        "wordcloud = WordCloud(width = 800, height = 800, \n",
        "                background_color ='black', \n",
        "                stopwords = stopwords, \n",
        "                min_font_size = 20,max_words=100).generate(h)\n",
        "# plot the WordCloud image                        \n",
        "plt.figure(figsize = (6, 6), facecolor = None) \n",
        "plt.imshow(wordcloud) \n",
        "plt.axis(\"off\") \n",
        "plt.tight_layout(pad = 0) \n",
        "plt.title('Top 100 Words in the Hate Tweets')"
      ],
      "execution_count": 8,
      "outputs": [
        {
          "output_type": "execute_result",
          "data": {
            "text/plain": [
              "Text(0.5, 1.0, 'Top 100 Words in the Hate Tweets')"
            ]
          },
          "metadata": {
            "tags": []
          },
          "execution_count": 8
        },
        {
          "output_type": "display_data",
          "data": {
            "image/png": "[encoded data removed]",
            "text/plain": [
              "<Figure size 432x432 with 1 Axes>"
            ]
          },
          "metadata": {
            "tags": []
          }
        }
      ]
    },
    {
      "cell_type": "code",
      "metadata": {
        "id": "KlgCqbUKFxWc",
        "colab_type": "code",
        "colab": {}
      },
      "source": [
        "#Suffling the data and splitting the data into train and test sets (90:10)\n",
        "from sklearn.model_selection import train_test_split\n",
        "train_tweets, val_tweets, train_labels, val_labels= train_test_split(tweets, labels, test_size=0.1, shuffle= True,random_state=42)"
      ],
      "execution_count": 0,
      "outputs": []
    },
    {
      "cell_type": "code",
      "metadata": {
        "id": "tXueAak9LreW",
        "colab_type": "code",
        "colab": {
          "base_uri": "https://localhost:8080/",
          "height": 90
        },
        "outputId": "4241bfa3-da36-4a86-c9e0-2c458c399de4"
      },
      "source": [
        "#Data Summary\n",
        "print('Length of the Training Set: ',len(df1))\n",
        "print('No. of Training Examples: ',len(train_tweets))\n",
        "print('No. of Validation Examples: ',len(val_tweets))\n",
        "print('No. of Test Examples: ',len(test_tweets))"
      ],
      "execution_count": 10,
      "outputs": [
        {
          "output_type": "stream",
          "text": [
            "Length of the Training Set:  31962\n",
            "No. of Training Examples:  28765\n",
            "No. of Validation Examples:  3197\n",
            "No. of Test Examples:  17197\n"
          ],
          "name": "stdout"
        }
      ]
    },
    {
      "cell_type": "code",
      "metadata": {
        "id": "GMk1YFicNM-F",
        "colab_type": "code",
        "colab": {
          "base_uri": "https://localhost:8080/",
          "height": 35
        },
        "outputId": "e78a55cc-b2a1-4cf4-971e-ba390b102358"
      },
      "source": [
        "#Tokenization and Padding\n",
        "import tensorflow as tf\n",
        "import numpy as np\n",
        "\n",
        "from tensorflow.keras.preprocessing.text import Tokenizer\n",
        "from tensorflow.keras.preprocessing.sequence import pad_sequences\n",
        "\n",
        "\n",
        "#embedding_dim = 200\n",
        "max_length = 40\n",
        "trunc_type='post'\n",
        "padding_type='post'\n",
        "oov_tok = \"<OOV>\"\n",
        "vocab_len=49999\n",
        "\n",
        "tokenizer = Tokenizer(num_words=vocab_len+1,oov_token=oov_tok)\n",
        "tokenizer.fit_on_texts(tweets)\n",
        "\n",
        "word_index = tokenizer.word_index\n",
        "vocab_size=len(word_index)\n",
        "print('Size of Vocabulary: ',vocab_size)\n",
        "\n",
        "train_sequences = tokenizer.texts_to_sequences(train_tweets)\n",
        "train_padded = pad_sequences(train_sequences, maxlen=max_length, padding=padding_type, truncating=trunc_type)\n",
        "\n",
        "val_sequences = tokenizer.texts_to_sequences(val_tweets)\n",
        "val_padded = pad_sequences(val_sequences, maxlen=max_length, padding=padding_type, truncating=trunc_type)\n",
        "\n",
        "test_sequences = tokenizer.texts_to_sequences(test_tweets)\n",
        "test_padded = pad_sequences(test_sequences, maxlen=max_length, padding=padding_type, truncating=trunc_type)\n",
        "\n",
        "train_labels=np.expand_dims(train_labels, axis=1)\n",
        "val_labels=np.expand_dims(val_labels, axis=1)"
      ],
      "execution_count": 11,
      "outputs": [
        {
          "output_type": "stream",
          "text": [
            "Size of Vocabulary:  38363\n"
          ],
          "name": "stdout"
        }
      ]
    },
    {
      "cell_type": "code",
      "metadata": {
        "id": "EHUjkz-7Pnim",
        "colab_type": "code",
        "colab": {
          "base_uri": "https://localhost:8080/",
          "height": 109
        },
        "outputId": "4052a12f-7784-4425-ec1f-b6b19d35f2bd"
      },
      "source": [
        "#Dimension of Data after Tokenizing and Padding\n",
        "print('Dimension of Training Data: ',train_padded.shape)\n",
        "print('Dimension of Validation Data: ',val_padded.shape)\n",
        "print('Dimension of Training Labels: ',train_labels.shape)\n",
        "print('Dimension of Validation Labels: ',val_labels.shape)\n",
        "print('Dimension of Test Data: ',test_padded.shape)"
      ],
      "execution_count": 12,
      "outputs": [
        {
          "output_type": "stream",
          "text": [
            "Dimension of Training Data:  (28765, 40)\n",
            "Dimension of Validation Data:  (3197, 40)\n",
            "Dimension of Training Labels:  (28765, 1)\n",
            "Dimension of Validation Labels:  (3197, 1)\n",
            "Dimension of Test Data:  (17197, 40)\n"
          ],
          "name": "stdout"
        }
      ]
    },
    {
      "cell_type": "code",
      "metadata": {
        "id": "gBXkH7brCq7_",
        "colab_type": "code",
        "colab": {
          "base_uri": "https://localhost:8080/",
          "height": 129
        },
        "outputId": "e51c426c-33c9-4c91-af46-c9e59b0ed03a"
      },
      "source": [
        "from google.colab import drive\n",
        "drive.mount('/content/drive',force_remount=True)"
      ],
      "execution_count": 13,
      "outputs": [
        {
          "output_type": "stream",
          "text": [
            "Go to this URL in a browser: https://accounts.google.com/o/oauth2/auth?client_id=947318989803-6bn6qk8qdgf4n4g3pfee6491hc0brc4i.apps.googleusercontent.com&redirect_uri=urn%3Aietf%3Awg%3Aoauth%3A2.0%3Aoob&scope=email%20https%3A%2F%2Fwww.googleapis.com%2Fauth%2Fdocs.test%20https%3A%2F%2Fwww.googleapis.com%2Fauth%2Fdrive%20https%3A%2F%2Fwww.googleapis.com%2Fauth%2Fdrive.photos.readonly%20https%3A%2F%2Fwww.googleapis.com%2Fauth%2Fpeopleapi.readonly&response_type=code\n",
            "\n",
            "Enter your authorization code:\n",
            "··········\n",
            "Mounted at /content/drive\n"
          ],
          "name": "stdout"
        }
      ]
    },
    {
      "cell_type": "code",
      "metadata": {
        "id": "jl5Fxg6NPvSo",
        "colab_type": "code",
        "colab": {}
      },
      "source": [
        "# Unzipping the fasttext pretrained model from Google Drive\n",
        "import os\n",
        "import zipfile\n",
        "\n",
        "#local_zip='/content/drive/My Drive/glove.twitter.27B.zip'\n",
        "local_zip='/content/drive/My Drive/crawl-300d-2M.vec.zip'\n",
        "zip_ref=zipfile.ZipFile(local_zip,'r')\n",
        "zip_ref.extractall('/content/drive/My Drive/crawl-300d-2M.vec')\n",
        "zip_ref.close()"
      ],
      "execution_count": 0,
      "outputs": []
    },
    {
      "cell_type": "code",
      "metadata": {
        "id": "z2vP2f3yDFog",
        "colab_type": "code",
        "colab": {}
      },
      "source": [
        "# Loading the pretrained vectors\n",
        "embeddings_index1 = {}\n",
        "embeddings_index2 = {}\n",
        "import numpy as np\n",
        "with open('/content/drive/My Drive/glove.twitter.27B/glove.twitter.27B.200d.txt') as f:\n",
        "    for line in f:\n",
        "        values = line.split()\n",
        "        word = values[0]\n",
        "        coefs = np.asarray(values[1:], dtype='float32')\n",
        "        embeddings_index1[word] = coefs\n",
        "\n",
        "with open('/content/drive/My Drive/crawl-300d-2M.vec/crawl-300d-2M.vec') as f:\n",
        "    for line in f:\n",
        "        values = line.split()\n",
        "        word = values[0]\n",
        "        coefs = np.asarray(values[1:], dtype='float32')\n",
        "        embeddings_index2[word] = coefs"
      ],
      "execution_count": 0,
      "outputs": []
    },
    {
      "cell_type": "code",
      "metadata": {
        "id": "U8zBk9yXEt_O",
        "colab_type": "code",
        "colab": {}
      },
      "source": [
        "#Creating an embedding matrix that contains the vectors of the words in the dataset\n",
        "embedding_dim1=200\n",
        "embedding_dim2=300\n",
        "\n",
        "embeddings_matrix1 = np.zeros((vocab_size, embedding_dim1))\n",
        "for word, i in word_index.items():\n",
        "    embedding_vector = embeddings_index1.get(word)\n",
        "    if embedding_vector is not None:\n",
        "        embeddings_matrix1[i] = embedding_vector\n",
        "        \n",
        "        \n",
        "embeddings_matrix2 = np.zeros((vocab_size, embedding_dim2))\n",
        "for word, i in word_index.items():\n",
        "    embedding_vector = embeddings_index2.get(word)\n",
        "    if embedding_vector is not None:\n",
        "        embeddings_matrix2[i] = embedding_vector"
      ],
      "execution_count": 0,
      "outputs": []
    },
    {
      "cell_type": "code",
      "metadata": {
        "id": "QZW2FjxqEz1U",
        "colab_type": "code",
        "colab": {
          "base_uri": "https://localhost:8080/",
          "height": 54
        },
        "outputId": "750e52e8-e241-4669-d8f4-cb417ba339ff"
      },
      "source": [
        "print('Shape of the Embeddings Matrix (GloVe): ',embeddings_matrix1.shape)\n",
        "print('Shape of the Embeddings Matrix (fastText): ',embeddings_matrix2.shape)"
      ],
      "execution_count": 16,
      "outputs": [
        {
          "output_type": "stream",
          "text": [
            "Shape of the Embeddings Matrix (GloVe):  (38363, 200)\n",
            "Shape of the Embeddings Matrix (fastText):  (38363, 300)\n"
          ],
          "name": "stdout"
        }
      ]
    },
    {
      "cell_type": "markdown",
      "metadata": {
        "id": "bEOo3S1O3AmD",
        "colab_type": "text"
      },
      "source": [
        "## **Building the model using GloVe pretrained embeddings**"
      ]
    },
    {
      "cell_type": "code",
      "metadata": {
        "id": "0sTn_3JvGo3g",
        "colab_type": "code",
        "colab": {}
      },
      "source": [
        "model1_lstm = tf.keras.Sequential([\n",
        "    tf.keras.layers.Embedding(vocab_size, embedding_dim1, input_length=max_length, weights = [embeddings_matrix1], trainable = False),\n",
        "    tf.keras.layers.Dropout(0.4),\n",
        "    tf.keras.layers.Bidirectional(tf.keras.layers.CuDNNLSTM(128,return_sequences=True)),\n",
        "    tf.keras.layers.Bidirectional(tf.keras.layers.CuDNNLSTM(128)),\n",
        "    tf.keras.layers.Dropout(0.2),\n",
        "    tf.keras.layers.Dense(128, activation='relu'),\n",
        "    tf.keras.layers.Dropout(0.4),\n",
        "    tf.keras.layers.Dense(64, activation='relu'),\n",
        "    tf.keras.layers.Dropout(0.5),\n",
        "    tf.keras.layers.Dense(1, activation='sigmoid')\n",
        "])"
      ],
      "execution_count": 0,
      "outputs": []
    },
    {
      "cell_type": "code",
      "metadata": {
        "id": "fCi4LZFxHXJ4",
        "colab_type": "code",
        "colab": {
          "base_uri": "https://localhost:8080/",
          "height": 403
        },
        "outputId": "45e0436f-db5a-4d12-8b0b-55dbee9257e7"
      },
      "source": [
        "reduce =tf. keras.callbacks.ReduceLROnPlateau(monitor='val_loss', factor=0.1, patience=3, mode='auto')\n",
        "#early = tf.keras.callbacks.EarlyStopping(monitor='val_loss', min_delta=1e-4, patience=10, mode='auto')\n",
        "model1_lstm.compile(loss='binary_crossentropy',optimizer='adam',metrics=['accuracy'])\n",
        "num_epochs = 10\n",
        "history1=model1_lstm.fit(train_padded, \n",
        "                    train_labels, \n",
        "                    epochs=num_epochs, \n",
        "                    batch_size=256, \n",
        "                    validation_data=(val_padded,val_labels),\n",
        "                    callbacks=[reduce],\n",
        "                    verbose=1)"
      ],
      "execution_count": 45,
      "outputs": [
        {
          "output_type": "stream",
          "text": [
            "Train on 28765 samples, validate on 3197 samples\n",
            "Epoch 1/10\n",
            "28765/28765 [==============================] - 10s 345us/sample - loss: 0.2332 - acc: 0.9225 - val_loss: 0.1417 - val_acc: 0.9456\n",
            "Epoch 2/10\n",
            "28765/28765 [==============================] - 8s 272us/sample - loss: 0.1585 - acc: 0.9433 - val_loss: 0.1315 - val_acc: 0.9506\n",
            "Epoch 3/10\n",
            "28765/28765 [==============================] - 8s 271us/sample - loss: 0.1429 - acc: 0.9489 - val_loss: 0.1474 - val_acc: 0.9415\n",
            "Epoch 4/10\n",
            "28765/28765 [==============================] - 8s 272us/sample - loss: 0.1359 - acc: 0.9512 - val_loss: 0.1134 - val_acc: 0.9546\n",
            "Epoch 5/10\n",
            "28765/28765 [==============================] - 8s 272us/sample - loss: 0.1219 - acc: 0.9571 - val_loss: 0.1128 - val_acc: 0.9571\n",
            "Epoch 6/10\n",
            "28765/28765 [==============================] - 8s 269us/sample - loss: 0.1216 - acc: 0.9563 - val_loss: 0.1099 - val_acc: 0.9571\n",
            "Epoch 7/10\n",
            "28765/28765 [==============================] - 8s 268us/sample - loss: 0.1085 - acc: 0.9607 - val_loss: 0.1039 - val_acc: 0.9606\n",
            "Epoch 8/10\n",
            "28765/28765 [==============================] - 8s 268us/sample - loss: 0.1024 - acc: 0.9632 - val_loss: 0.1003 - val_acc: 0.9596\n",
            "Epoch 9/10\n",
            "28765/28765 [==============================] - 8s 270us/sample - loss: 0.0955 - acc: 0.9653 - val_loss: 0.1026 - val_acc: 0.9631\n",
            "Epoch 10/10\n",
            "28765/28765 [==============================] - 8s 272us/sample - loss: 0.0867 - acc: 0.9681 - val_loss: 0.1018 - val_acc: 0.9612\n"
          ],
          "name": "stdout"
        }
      ]
    },
    {
      "cell_type": "code",
      "metadata": {
        "id": "Ykivcg33QCav",
        "colab_type": "code",
        "colab": {
          "base_uri": "https://localhost:8080/",
          "height": 788
        },
        "outputId": "ebfca532-6441-4dfa-ae1c-03f32fe0ff69"
      },
      "source": [
        "#Determining the optimal threshold value to seggregate the classes\n",
        "pred1= model1_lstm.predict(val_padded, batch_size=256,verbose=1)\n",
        "from sklearn import metrics\n",
        "for thresh in np.arange(0.1, 0.501, 0.01):\n",
        "    thresh = np.round(thresh, 2)\n",
        "    print(\"F1 score at threshold {0} is {1}\".format(thresh, metrics.f1_score(val_labels, (pred1>thresh).astype(int))))"
      ],
      "execution_count": 46,
      "outputs": [
        {
          "output_type": "stream",
          "text": [
            "3197/3197 [==============================] - 1s 238us/sample\n",
            "F1 score at threshold 0.1 is 0.5722713864306784\n",
            "F1 score at threshold 0.11 is 0.583206106870229\n",
            "F1 score at threshold 0.12 is 0.5984251968503936\n",
            "F1 score at threshold 0.13 is 0.6064516129032258\n",
            "F1 score at threshold 0.14 is 0.6181818181818183\n",
            "F1 score at threshold 0.15 is 0.6241610738255033\n",
            "F1 score at threshold 0.16 is 0.6390328151986183\n",
            "F1 score at threshold 0.17 is 0.6395759717314488\n",
            "F1 score at threshold 0.18 is 0.6463195691202872\n",
            "F1 score at threshold 0.19 is 0.6556776556776557\n",
            "F1 score at threshold 0.2 is 0.6666666666666666\n",
            "F1 score at threshold 0.21 is 0.6793893129770993\n",
            "F1 score at threshold 0.22 is 0.6861598440545809\n",
            "F1 score at threshold 0.23 is 0.6865079365079364\n",
            "F1 score at threshold 0.24 is 0.6910569105691057\n",
            "F1 score at threshold 0.25 is 0.6940451745379876\n",
            "F1 score at threshold 0.26 is 0.7044025157232705\n",
            "F1 score at threshold 0.27 is 0.7076271186440678\n",
            "F1 score at threshold 0.28 is 0.7109207708779444\n",
            "F1 score at threshold 0.29 is 0.7158351409978307\n",
            "F1 score at threshold 0.3 is 0.7152317880794701\n",
            "F1 score at threshold 0.31 is 0.7142857142857143\n",
            "F1 score at threshold 0.32 is 0.7191011235955057\n",
            "F1 score at threshold 0.33 is 0.7198177676537586\n",
            "F1 score at threshold 0.34 is 0.7235023041474655\n",
            "F1 score at threshold 0.35 is 0.7226107226107226\n",
            "F1 score at threshold 0.36 is 0.7136150234741784\n",
            "F1 score at threshold 0.37 is 0.709832134292566\n",
            "F1 score at threshold 0.38 is 0.7038834951456311\n",
            "F1 score at threshold 0.39 is 0.7012345679012346\n",
            "F1 score at threshold 0.4 is 0.6900000000000001\n",
            "F1 score at threshold 0.41 is 0.6952141057934509\n",
            "F1 score at threshold 0.42 is 0.690537084398977\n",
            "F1 score at threshold 0.43 is 0.6838046272493573\n",
            "F1 score at threshold 0.44 is 0.6821705426356589\n",
            "F1 score at threshold 0.45 is 0.6857142857142857\n",
            "F1 score at threshold 0.46 is 0.6842105263157895\n",
            "F1 score at threshold 0.47 is 0.6825396825396824\n",
            "F1 score at threshold 0.48 is 0.679245283018868\n",
            "F1 score at threshold 0.49 is 0.6702997275204359\n",
            "F1 score at threshold 0.5 is 0.6593406593406593\n"
          ],
          "name": "stdout"
        }
      ]
    },
    {
      "cell_type": "code",
      "metadata": {
        "id": "-tk_evjeHgqU",
        "colab_type": "code",
        "colab": {
          "base_uri": "https://localhost:8080/",
          "height": 539
        },
        "outputId": "7c3ecd8a-7b0f-4e2d-c9b4-4e4cc577c905"
      },
      "source": [
        "#From above, we can see that F1 score is highest at a threshold of 0.34\n",
        "pred_val_labels1=(pred1>0.34).astype(int)\n",
        "\n",
        "from sklearn.metrics import classification_report\n",
        "print(classification_report(val_labels,pred_val_labels1))\n",
        "\n",
        "import matplotlib.pyplot as plt\n",
        "from sklearn.metrics import confusion_matrix\n",
        "print(confusion_matrix(val_labels, pred_val_labels1))\n",
        "CM = confusion_matrix(val_labels, pred_val_labels1)\n",
        "from mlxtend.plotting import plot_confusion_matrix\n",
        "fig, ax = plot_confusion_matrix(conf_mat=CM ,  figsize=(5, 5))\n",
        "plt.show()\n",
        "  "
      ],
      "execution_count": 47,
      "outputs": [
        {
          "output_type": "stream",
          "text": [
            "              precision    recall  f1-score   support\n",
            "\n",
            "           0       0.98      0.98      0.98      2984\n",
            "           1       0.71      0.74      0.72       213\n",
            "\n",
            "    accuracy                           0.96      3197\n",
            "   macro avg       0.85      0.86      0.85      3197\n",
            "weighted avg       0.96      0.96      0.96      3197\n",
            "\n",
            "[[2920   64]\n",
            " [  56  157]]\n"
          ],
          "name": "stdout"
        },
        {
          "output_type": "display_data",
          "data": {
            "image/png": "[encoded data removed]",
            "text/plain": [
              "<Figure size 360x360 with 1 Axes>"
            ]
          },
          "metadata": {
            "tags": []
          }
        }
      ]
    },
    {
      "cell_type": "markdown",
      "metadata": {
        "id": "cpOG9T3W21zJ",
        "colab_type": "text"
      },
      "source": [
        "## **Building the model using fastText pretrained embeddings**"
      ]
    },
    {
      "cell_type": "code",
      "metadata": {
        "id": "VB0lXTu4tm1g",
        "colab_type": "code",
        "colab": {}
      },
      "source": [
        "model2_lstm = tf.keras.Sequential([\n",
        "    tf.keras.layers.Embedding(vocab_size, embedding_dim2, input_length=max_length, weights = [embeddings_matrix2], trainable = False),\n",
        "    tf.keras.layers.Dropout(0.4),\n",
        "    tf.keras.layers.Bidirectional(tf.keras.layers.CuDNNLSTM(128,return_sequences=True)),\n",
        "    tf.keras.layers.Dropout(0.2),\n",
        "    tf.keras.layers.Bidirectional(tf.keras.layers.CuDNNLSTM(128)),\n",
        "    tf.keras.layers.Dropout(0.2),\n",
        "    tf.keras.layers.Dense(128, activation='relu'),\n",
        "    tf.keras.layers.Dropout(0.4),\n",
        "    tf.keras.layers.Dense(64, activation='relu'),\n",
        "    tf.keras.layers.Dropout(0.5),\n",
        "    tf.keras.layers.Dense(1, activation='sigmoid')\n",
        "])"
      ],
      "execution_count": 0,
      "outputs": []
    },
    {
      "cell_type": "code",
      "metadata": {
        "id": "9wzdOJKjwwwW",
        "colab_type": "code",
        "colab": {
          "base_uri": "https://localhost:8080/",
          "height": 403
        },
        "outputId": "6c7ee248-42c0-4656-a0f9-bc3d204973eb"
      },
      "source": [
        "reduce =tf. keras.callbacks.ReduceLROnPlateau(monitor='val_loss', factor=0.1, patience=3, mode='auto')\n",
        "#early = tf.keras.callbacks.EarlyStopping(monitor='val_loss', min_delta=1e-4, patience=10, mode='auto')\n",
        "model2_lstm.compile(loss='binary_crossentropy',optimizer='adam',metrics=['accuracy'])\n",
        "num_epochs = 10\n",
        "history2=model2_lstm.fit(train_padded, \n",
        "                    train_labels, \n",
        "                    epochs=num_epochs, \n",
        "                    batch_size=256, \n",
        "                    validation_data=(val_padded,val_labels),\n",
        "                    callbacks=[reduce],\n",
        "                    verbose=1)"
      ],
      "execution_count": 54,
      "outputs": [
        {
          "output_type": "stream",
          "text": [
            "Train on 28765 samples, validate on 3197 samples\n",
            "Epoch 1/10\n",
            "28765/28765 [==============================] - 11s 372us/sample - loss: 0.2048 - acc: 0.9330 - val_loss: 0.1412 - val_acc: 0.9493\n",
            "Epoch 2/10\n",
            "28765/28765 [==============================] - 8s 284us/sample - loss: 0.1406 - acc: 0.9503 - val_loss: 0.1210 - val_acc: 0.9528\n",
            "Epoch 3/10\n",
            "28765/28765 [==============================] - 8s 284us/sample - loss: 0.1319 - acc: 0.9534 - val_loss: 0.1285 - val_acc: 0.9553\n",
            "Epoch 4/10\n",
            "28765/28765 [==============================] - 8s 286us/sample - loss: 0.1261 - acc: 0.9553 - val_loss: 0.1218 - val_acc: 0.9521\n",
            "Epoch 5/10\n",
            "28765/28765 [==============================] - 8s 285us/sample - loss: 0.1181 - acc: 0.9575 - val_loss: 0.1107 - val_acc: 0.9571\n",
            "Epoch 6/10\n",
            "28765/28765 [==============================] - 8s 285us/sample - loss: 0.1110 - acc: 0.9608 - val_loss: 0.1083 - val_acc: 0.9603\n",
            "Epoch 7/10\n",
            "28765/28765 [==============================] - 8s 287us/sample - loss: 0.1040 - acc: 0.9625 - val_loss: 0.1053 - val_acc: 0.9612\n",
            "Epoch 8/10\n",
            "28765/28765 [==============================] - 8s 287us/sample - loss: 0.0969 - acc: 0.9643 - val_loss: 0.1082 - val_acc: 0.9615\n",
            "Epoch 9/10\n",
            "28765/28765 [==============================] - 8s 288us/sample - loss: 0.0916 - acc: 0.9673 - val_loss: 0.1003 - val_acc: 0.9640\n",
            "Epoch 10/10\n",
            "28765/28765 [==============================] - 8s 286us/sample - loss: 0.0871 - acc: 0.9668 - val_loss: 0.1160 - val_acc: 0.9637\n"
          ],
          "name": "stdout"
        }
      ]
    },
    {
      "cell_type": "code",
      "metadata": {
        "id": "u7c9qjxewx0W",
        "colab_type": "code",
        "colab": {
          "base_uri": "https://localhost:8080/",
          "height": 788
        },
        "outputId": "121dcd59-f6d3-4e38-cee0-4dcc345b2210"
      },
      "source": [
        "#Determining the optimal threshold value to seggregate the classes\n",
        "pred2= model2_lstm.predict(val_padded, batch_size=256,verbose=1)\n",
        "from sklearn import metrics\n",
        "for thresh in np.arange(0.1, 0.501, 0.01):\n",
        "    thresh = np.round(thresh, 2)\n",
        "    print(\"F1 score at threshold {0} is {1}\".format(thresh, metrics.f1_score(val_labels, (pred2>thresh).astype(int))))"
      ],
      "execution_count": 67,
      "outputs": [
        {
          "output_type": "stream",
          "text": [
            "3197/3197 [==============================] - 0s 122us/sample\n",
            "F1 score at threshold 0.1 is 0.6442687747035573\n",
            "F1 score at threshold 0.11 is 0.6506024096385542\n",
            "F1 score at threshold 0.12 is 0.6571428571428573\n",
            "F1 score at threshold 0.13 is 0.6638655462184874\n",
            "F1 score at threshold 0.14 is 0.6680942184154175\n",
            "F1 score at threshold 0.15 is 0.6768558951965065\n",
            "F1 score at threshold 0.16 is 0.6725663716814159\n",
            "F1 score at threshold 0.17 is 0.6831460674157304\n",
            "F1 score at threshold 0.18 is 0.6909090909090909\n",
            "F1 score at threshold 0.19 is 0.6942528735632183\n",
            "F1 score at threshold 0.2 is 0.6899766899766899\n",
            "F1 score at threshold 0.21 is 0.691588785046729\n",
            "F1 score at threshold 0.22 is 0.6964705882352942\n",
            "F1 score at threshold 0.23 is 0.7064439140811456\n",
            "F1 score at threshold 0.24 is 0.7050359712230215\n",
            "F1 score at threshold 0.25 is 0.711864406779661\n",
            "F1 score at threshold 0.26 is 0.7170731707317074\n",
            "F1 score at threshold 0.27 is 0.7188264058679706\n",
            "F1 score at threshold 0.28 is 0.7192118226600984\n",
            "F1 score at threshold 0.29 is 0.7146401985111662\n",
            "F1 score at threshold 0.3 is 0.713216957605985\n",
            "F1 score at threshold 0.31 is 0.7085427135678393\n",
            "F1 score at threshold 0.32 is 0.7085427135678393\n",
            "F1 score at threshold 0.33 is 0.7103274559193954\n",
            "F1 score at threshold 0.34 is 0.7058823529411765\n",
            "F1 score at threshold 0.35 is 0.7095115681233933\n",
            "F1 score at threshold 0.36 is 0.702842377260982\n",
            "F1 score at threshold 0.37 is 0.6994818652849741\n",
            "F1 score at threshold 0.38 is 0.6979166666666667\n",
            "F1 score at threshold 0.39 is 0.6945169712793734\n",
            "F1 score at threshold 0.4 is 0.6876640419947506\n",
            "F1 score at threshold 0.41 is 0.6878306878306878\n",
            "F1 score at threshold 0.42 is 0.6896551724137931\n",
            "F1 score at threshold 0.43 is 0.688\n",
            "F1 score at threshold 0.44 is 0.688\n",
            "F1 score at threshold 0.45 is 0.688\n",
            "F1 score at threshold 0.46 is 0.6898395721925134\n",
            "F1 score at threshold 0.47 is 0.6916890080428955\n",
            "F1 score at threshold 0.48 is 0.6935483870967741\n",
            "F1 score at threshold 0.49 is 0.6935483870967741\n",
            "F1 score at threshold 0.5 is 0.6847826086956521\n"
          ],
          "name": "stdout"
        }
      ]
    },
    {
      "cell_type": "code",
      "metadata": {
        "id": "3agNf7SzwyJ6",
        "colab_type": "code",
        "colab": {
          "base_uri": "https://localhost:8080/",
          "height": 539
        },
        "outputId": "0a4de7f0-aa31-4f3c-d368-6663317b2863"
      },
      "source": [
        "pred_val_labels2=(pred2>0.28).astype(int)\n",
        "\n",
        "from sklearn.metrics import classification_report\n",
        "print(classification_report(val_labels,pred_val_labels2))\n",
        "\n",
        "import matplotlib.pyplot as plt\n",
        "from sklearn.metrics import confusion_matrix\n",
        "print(confusion_matrix(val_labels, pred_val_labels2))\n",
        "CM = confusion_matrix(val_labels, pred_val_labels2)\n",
        "from mlxtend.plotting import plot_confusion_matrix\n",
        "fig, ax = plot_confusion_matrix(conf_mat=CM ,  figsize=(5, 5))\n",
        "plt.show()\n",
        "  "
      ],
      "execution_count": 56,
      "outputs": [
        {
          "output_type": "stream",
          "text": [
            "              precision    recall  f1-score   support\n",
            "\n",
            "           0       0.98      0.98      0.98      2984\n",
            "           1       0.76      0.69      0.72       213\n",
            "\n",
            "    accuracy                           0.96      3197\n",
            "   macro avg       0.87      0.83      0.85      3197\n",
            "weighted avg       0.96      0.96      0.96      3197\n",
            "\n",
            "[[2937   47]\n",
            " [  67  146]]\n"
          ],
          "name": "stdout"
        },
        {
          "output_type": "display_data",
          "data": {
            "image/png": "[encoded data removed]",
            "text/plain": [
              "<Figure size 360x360 with 1 Axes>"
            ]
          },
          "metadata": {
            "tags": []
          }
        }
      ]
    },
    {
      "cell_type": "markdown",
      "metadata": {
        "id": "RwN7epZR3XoE",
        "colab_type": "text"
      },
      "source": [
        "##**Ensemble Model**"
      ]
    },
    {
      "cell_type": "code",
      "metadata": {
        "id": "bp2DVrRg0Zm-",
        "colab_type": "code",
        "colab": {
          "base_uri": "https://localhost:8080/",
          "height": 807
        },
        "outputId": "4096ff8f-e0ce-46b1-99f4-6bd54aba8636"
      },
      "source": [
        "pred1_l = model1_lstm.predict(val_padded, batch_size=256,verbose=1)\n",
        "pred2_l = model2_lstm.predict(val_padded, batch_size=256,verbose=1)\n",
        "pred_val = 0.5*pred1_l + 0.5*pred2_l \n",
        "for thresh in np.arange(0.1, 0.501, 0.01):\n",
        "    thresh = np.round(thresh, 2)\n",
        "    print(\"F1 score at threshold {0} is {1}\".format(thresh, metrics.f1_score(val_labels, (pred_val>thresh).astype(int))))"
      ],
      "execution_count": 63,
      "outputs": [
        {
          "output_type": "stream",
          "text": [
            "3197/3197 [==============================] - 0s 121us/sample\n",
            "3197/3197 [==============================] - 0s 107us/sample\n",
            "F1 score at threshold 0.1 is 0.6163934426229508\n",
            "F1 score at threshold 0.11 is 0.6328257191201354\n",
            "F1 score at threshold 0.12 is 0.6503496503496503\n",
            "F1 score at threshold 0.13 is 0.6618705035971224\n",
            "F1 score at threshold 0.14 is 0.6777777777777778\n",
            "F1 score at threshold 0.15 is 0.6933333333333334\n",
            "F1 score at threshold 0.16 is 0.7045009784735812\n",
            "F1 score at threshold 0.17 is 0.7114624505928854\n",
            "F1 score at threshold 0.18 is 0.7134268537074148\n",
            "F1 score at threshold 0.19 is 0.7181628392484343\n",
            "F1 score at threshold 0.2 is 0.7257383966244727\n",
            "F1 score at threshold 0.21 is 0.7334754797441364\n",
            "F1 score at threshold 0.22 is 0.7316017316017316\n",
            "F1 score at threshold 0.23 is 0.7312775330396477\n",
            "F1 score at threshold 0.24 is 0.7272727272727273\n",
            "F1 score at threshold 0.25 is 0.7280898876404494\n",
            "F1 score at threshold 0.26 is 0.7272727272727273\n",
            "F1 score at threshold 0.27 is 0.7327188940092166\n",
            "F1 score at threshold 0.28 is 0.7302325581395347\n",
            "F1 score at threshold 0.29 is 0.7306791569086651\n",
            "F1 score at threshold 0.3 is 0.7375886524822696\n",
            "F1 score at threshold 0.31 is 0.7416267942583732\n",
            "F1 score at threshold 0.32 is 0.7409200968523003\n",
            "F1 score at threshold 0.33 is 0.7450980392156863\n",
            "F1 score at threshold 0.34 is 0.746928746928747\n",
            "F1 score at threshold 0.35 is 0.745679012345679\n",
            "F1 score at threshold 0.36 is 0.736318407960199\n",
            "F1 score at threshold 0.37 is 0.730478589420655\n",
            "F1 score at threshold 0.38 is 0.7258883248730965\n",
            "F1 score at threshold 0.39 is 0.72264631043257\n",
            "F1 score at threshold 0.4 is 0.7193877551020409\n",
            "F1 score at threshold 0.41 is 0.712820512820513\n",
            "F1 score at threshold 0.42 is 0.7131782945736435\n",
            "F1 score at threshold 0.43 is 0.7150259067357513\n",
            "F1 score at threshold 0.44 is 0.7052631578947368\n",
            "F1 score at threshold 0.45 is 0.7052631578947368\n",
            "F1 score at threshold 0.46 is 0.7037037037037037\n",
            "F1 score at threshold 0.47 is 0.7055702917771884\n",
            "F1 score at threshold 0.48 is 0.7058823529411765\n",
            "F1 score at threshold 0.49 is 0.7043010752688171\n",
            "F1 score at threshold 0.5 is 0.7061994609164419\n"
          ],
          "name": "stdout"
        }
      ]
    },
    {
      "cell_type": "code",
      "metadata": {
        "id": "DJw2aBic1Pl6",
        "colab_type": "code",
        "colab": {
          "base_uri": "https://localhost:8080/",
          "height": 539
        },
        "outputId": "d93ce836-859d-4953-eed7-f4a67f532295"
      },
      "source": [
        "pred_val_labels=(pred_val>0.34).astype(int)\n",
        "\n",
        "from sklearn.metrics import classification_report\n",
        "print(classification_report(val_labels,pred_val_labels))\n",
        "\n",
        "import matplotlib.pyplot as plt\n",
        "from sklearn.metrics import confusion_matrix\n",
        "print(confusion_matrix(val_labels, pred_val_labels))\n",
        "CM = confusion_matrix(val_labels, pred_val_labels)\n",
        "from mlxtend.plotting import plot_confusion_matrix\n",
        "fig, ax = plot_confusion_matrix(conf_mat=CM ,  figsize=(5, 5))\n",
        "plt.show()"
      ],
      "execution_count": 64,
      "outputs": [
        {
          "output_type": "stream",
          "text": [
            "              precision    recall  f1-score   support\n",
            "\n",
            "           0       0.98      0.99      0.98      2984\n",
            "           1       0.78      0.71      0.75       213\n",
            "\n",
            "    accuracy                           0.97      3197\n",
            "   macro avg       0.88      0.85      0.86      3197\n",
            "weighted avg       0.97      0.97      0.97      3197\n",
            "\n",
            "[[2942   42]\n",
            " [  61  152]]\n"
          ],
          "name": "stdout"
        },
        {
          "output_type": "display_data",
          "data": {
            "image/png": "[encoded data removed]",
            "text/plain": [
              "<Figure size 360x360 with 1 Axes>"
            ]
          },
          "metadata": {
            "tags": []
          }
        }
      ]
    },
    {
      "cell_type": "markdown",
      "metadata": {
        "id": "6fM6Mlbl4gUV",
        "colab_type": "text"
      },
      "source": [
        "##**Ensemble Model gives the best F1 Score**"
      ]
    },
    {
      "cell_type": "code",
      "metadata": {
        "id": "_h5yFzjd1PdC",
        "colab_type": "code",
        "colab": {
          "base_uri": "https://localhost:8080/",
          "height": 54
        },
        "outputId": "e48c64f0-931c-44b1-b4f9-6cec7d752f3b"
      },
      "source": [
        "pred_test1 = model1_lstm.predict(test_padded, batch_size=256,verbose=1)\n",
        "pred_test2 = model2_lstm.predict(test_padded, batch_size=256,verbose=1)\n",
        "pred_test = 0.5*pred_test1 + 0.5*pred_test2 \n",
        "pred_test_labels = (pred_test>0.34).astype(int)\n",
        "out_df = pd.DataFrame({'id':df2['id'].values})\n",
        "out_df['label'] = pred_test_labels\n",
        "out_df.to_csv('submission.csv', index=False)"
      ],
      "execution_count": 66,
      "outputs": [
        {
          "output_type": "stream",
          "text": [
            "17197/17197 [==============================] - 2s 91us/sample\n",
            "17197/17197 [==============================] - 1s 85us/sample\n"
          ],
          "name": "stdout"
        }
      ]
    }
  ]
}