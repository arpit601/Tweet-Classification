{
  "nbformat": 4,
  "nbformat_minor": 0,
  "metadata": {
    "colab": {
      "name": "Tweet Classification",
      "version": "0.3.2",
      "provenance": [],
      "collapsed_sections": [],
      "include_colab_link": true
    },
    "kernelspec": {
      "name": "python3",
      "display_name": "Python 3"
    },
    "accelerator": "GPU"
  },
  "cells": [
    {
      "cell_type": "markdown",
      "metadata": {
        "id": "view-in-github",
        "colab_type": "text"
      },
      "source": [
        "<a href=\"https://colab.research.google.com/github/manashpratim/Tweet-Classification/blob/master/Tweet_Classification.ipynb\" target=\"_parent\"><img src=\"https://colab.research.google.com/assets/colab-badge.svg\" alt=\"Open In Colab\"/></a>"
      ]
    },
    {
      "cell_type": "code",
      "metadata": {
        "id": "QzGirNa_di7b",
        "colab_type": "code",
        "outputId": "3c331fad-d13b-4bfc-c86f-2b31ba49ce58",
        "colab": {
          "base_uri": "https://localhost:8080/",
          "height": 421
        }
      },
      "source": [
        "#Downloading the Datasets\n",
        "!wget --no-check-certificate \\\n",
        "      \"https://datahack-prod.s3.amazonaws.com/train_file/train_E6oV3lV.csv\"\\\n",
        "      -O \"/tmp/train_tweets.csv\"\n",
        "\n",
        "!wget --no-check-certificate \\\n",
        "      \"https://datahack-prod.s3.amazonaws.com/test_file/test_tweets_anuFYb8.csv\"\\\n",
        "      -O \"/tmp/test_tweets.csv\""
      ],
      "execution_count": 1,
      "outputs": [
        {
          "output_type": "stream",
          "text": [
            "--2019-07-10 02:04:27--  https://datahack-prod.s3.amazonaws.com/train_file/train_E6oV3lV.csv\n",
            "Resolving datahack-prod.s3.amazonaws.com (datahack-prod.s3.amazonaws.com)... 52.219.66.32\n",
            "Connecting to datahack-prod.s3.amazonaws.com (datahack-prod.s3.amazonaws.com)|52.219.66.32|:443... connected.\n",
            "HTTP request sent, awaiting response... 200 OK\n",
            "Length: 3103165 (3.0M) [text/csv]\n",
            "Saving to: ‘/tmp/train_tweets.csv’\n",
            "\n",
            "/tmp/train_tweets.c 100%[===================>]   2.96M  1.71MB/s    in 1.7s    \n",
            "\n",
            "2019-07-10 02:04:30 (1.71 MB/s) - ‘/tmp/train_tweets.csv’ saved [3103165/3103165]\n",
            "\n",
            "--2019-07-10 02:04:36--  https://datahack-prod.s3.amazonaws.com/test_file/test_tweets_anuFYb8.csv\n",
            "Resolving datahack-prod.s3.amazonaws.com (datahack-prod.s3.amazonaws.com)... 52.219.66.0\n",
            "Connecting to datahack-prod.s3.amazonaws.com (datahack-prod.s3.amazonaws.com)|52.219.66.0|:443... connected.\n",
            "HTTP request sent, awaiting response... 200 OK\n",
            "Length: 1635543 (1.6M) [text/csv]\n",
            "Saving to: ‘/tmp/test_tweets.csv’\n",
            "\n",
            "/tmp/test_tweets.cs 100%[===================>]   1.56M   299KB/s    in 6.9s    \n",
            "\n",
            "2019-07-10 02:04:44 (231 KB/s) - ‘/tmp/test_tweets.csv’ saved [1635543/1635543]\n",
            "\n"
          ],
          "name": "stdout"
        }
      ]
    },
    {
      "cell_type": "code",
      "metadata": {
        "id": "jaONxCuud6mb",
        "colab_type": "code",
        "colab": {}
      },
      "source": [
        "import numpy as np\n",
        "import pandas as pd\n",
        "df1=pd.read_csv('/tmp/train_tweets.csv')\n",
        "df2=pd.read_csv('/tmp/test_tweets.csv')"
      ],
      "execution_count": 0,
      "outputs": []
    },
    {
      "cell_type": "code",
      "metadata": {
        "id": "VwVt4sNoeXXD",
        "colab_type": "code",
        "outputId": "83283bd4-e43a-41a5-d61a-29518068cc9b",
        "colab": {
          "base_uri": "https://localhost:8080/",
          "height": 206
        }
      },
      "source": [
        "df1.head(5)"
      ],
      "execution_count": 3,
      "outputs": [
        {
          "output_type": "execute_result",
          "data": {
            "text/html": [
              "<div>\n",
              "<style scoped>\n",
              "    .dataframe tbody tr th:only-of-type {\n",
              "        vertical-align: middle;\n",
              "    }\n",
              "\n",
              "    .dataframe tbody tr th {\n",
              "        vertical-align: top;\n",
              "    }\n",
              "\n",
              "    .dataframe thead th {\n",
              "        text-align: right;\n",
              "    }\n",
              "</style>\n",
              "<table border=\"1\" class=\"dataframe\">\n",
              "  <thead>\n",
              "    <tr style=\"text-align: right;\">\n",
              "      <th></th>\n",
              "      <th>id</th>\n",
              "      <th>label</th>\n",
              "      <th>tweet</th>\n",
              "    </tr>\n",
              "  </thead>\n",
              "  <tbody>\n",
              "    <tr>\n",
              "      <th>0</th>\n",
              "      <td>1</td>\n",
              "      <td>0</td>\n",
              "      <td>@user when a father is dysfunctional and is s...</td>\n",
              "    </tr>\n",
              "    <tr>\n",
              "      <th>1</th>\n",
              "      <td>2</td>\n",
              "      <td>0</td>\n",
              "      <td>@user @user thanks for #lyft credit i can't us...</td>\n",
              "    </tr>\n",
              "    <tr>\n",
              "      <th>2</th>\n",
              "      <td>3</td>\n",
              "      <td>0</td>\n",
              "      <td>bihday your majesty</td>\n",
              "    </tr>\n",
              "    <tr>\n",
              "      <th>3</th>\n",
              "      <td>4</td>\n",
              "      <td>0</td>\n",
              "      <td>#model   i love u take with u all the time in ...</td>\n",
              "    </tr>\n",
              "    <tr>\n",
              "      <th>4</th>\n",
              "      <td>5</td>\n",
              "      <td>0</td>\n",
              "      <td>factsguide: society now    #motivation</td>\n",
              "    </tr>\n",
              "  </tbody>\n",
              "</table>\n",
              "</div>"
            ],
            "text/plain": [
              "   id  label                                              tweet\n",
              "0   1      0   @user when a father is dysfunctional and is s...\n",
              "1   2      0  @user @user thanks for #lyft credit i can't us...\n",
              "2   3      0                                bihday your majesty\n",
              "3   4      0  #model   i love u take with u all the time in ...\n",
              "4   5      0             factsguide: society now    #motivation"
            ]
          },
          "metadata": {
            "tags": []
          },
          "execution_count": 3
        }
      ]
    },
    {
      "cell_type": "code",
      "metadata": {
        "id": "XEWMXosli8Lp",
        "colab_type": "code",
        "outputId": "bad91719-85bd-4c4d-f188-ed3f40233ab8",
        "colab": {
          "base_uri": "https://localhost:8080/",
          "height": 368
        }
      },
      "source": [
        "import numpy as np\n",
        "import matplotlib.pyplot as plt\n",
        "plt.bar([0,1], df1['label'].value_counts(), width=0.5, bottom=None, align='center', data=df1)\n",
        "plt.title('Labels Distribution')\n",
        "plt.xlabel('Labels')\n",
        "plt.ylabel('Frequency')\n",
        "plt.xticks(np.arange(0, 1, step=2))\n",
        "print('Labels Distribution:\\n',df1['label'].value_counts())"
      ],
      "execution_count": 4,
      "outputs": [
        {
          "output_type": "stream",
          "text": [
            "Labels Distribution:\n",
            " 0    29720\n",
            "1     2242\n",
            "Name: label, dtype: int64\n"
          ],
          "name": "stdout"
        },
        {
          "output_type": "display_data",
          "data": {
            "image/png": "[encoded data removed]",
            "text/plain": [
              "<Figure size 432x288 with 1 Axes>"
            ]
          },
          "metadata": {
            "tags": []
          }
        }
      ]
    },
    {
      "cell_type": "markdown",
      "metadata": {
        "id": "0_A3QNfaAPUb",
        "colab_type": "text"
      },
      "source": [
        "# **Clearly this is an imbalanced dataset.**"
      ]
    },
    {
      "cell_type": "code",
      "metadata": {
        "id": "uvNhObZlAYLM",
        "colab_type": "code",
        "colab": {
          "base_uri": "https://localhost:8080/",
          "height": 127
        },
        "outputId": "41df5d1b-992c-4d33-8aa6-4ef4cb585c0f"
      },
      "source": [
        "#Functions for Preprocessing the Dataset\n",
        "import nltk\n",
        "from nltk import word_tokenize\n",
        "nltk.download('stopwords')\n",
        "from nltk.corpus import stopwords\n",
        "nltk.download('punkt')\n",
        "stop_words = set(stopwords.words('english'))\n",
        "from textblob import Word\n",
        "nltk.download('wordnet')\n",
        "\n",
        "def mystopwords(text):\n",
        "    return ' '.join([w for w in word_tokenize(text) if not w in stop_words])\n",
        "\n",
        "def lemmatize(text):\n",
        "    return ' '.join([Word(word).lemmatize() for word in text.split()])\n",
        "\n",
        "import re\n",
        "def clean_text(string):\n",
        "  clean=re.sub('@[a-zA-Z0-9_]+', '', string) #removing usernames from tweets\n",
        "  clean=re.sub('[\\n]',' ',clean) #remove newline character\n",
        "  clean=re.sub('[^a-zA-Z\\']',' ',clean) #remove non alphabetic characters\n",
        "  #clean=mystopwords(clean) #remove stopwords\n",
        "  #clean=lemmatize(clean)\n",
        "  clean=' '.join(clean.split()) #removing unnecessary spaces\n",
        "  return clean"
      ],
      "execution_count": 115,
      "outputs": [
        {
          "output_type": "stream",
          "text": [
            "[nltk_data] Downloading package stopwords to /root/nltk_data...\n",
            "[nltk_data]   Package stopwords is already up-to-date!\n",
            "[nltk_data] Downloading package punkt to /root/nltk_data...\n",
            "[nltk_data]   Package punkt is already up-to-date!\n",
            "[nltk_data] Downloading package wordnet to /root/nltk_data...\n",
            "[nltk_data]   Package wordnet is already up-to-date!\n"
          ],
          "name": "stdout"
        }
      ]
    },
    {
      "cell_type": "code",
      "metadata": {
        "id": "2y_qchZaB9_d",
        "colab_type": "code",
        "colab": {}
      },
      "source": [
        "#Cleaning the train data and separating the texts and labels\n",
        "tweets=[]\n",
        "labels=[]\n",
        "for i in range(len(df1)):\n",
        "  labels.append(df1['label'][i])\n",
        "  tweets.append(clean_text(df1['tweet'][i]))\n",
        "  \n",
        "#Cleaning the test data \n",
        "test_tweets=[]\n",
        "for i in range(len(df2)):\n",
        "  test_tweets.append(clean_text(df2['tweet'][i]))\n"
      ],
      "execution_count": 0,
      "outputs": []
    },
    {
      "cell_type": "code",
      "metadata": {
        "id": "SCb2AJspF0vj",
        "colab_type": "code",
        "colab": {
          "base_uri": "https://localhost:8080/",
          "height": 54
        },
        "outputId": "4ab5d6b6-d02e-46b8-8885-09aff034110c"
      },
      "source": [
        "#Example of a tweet before and after cleaning\n",
        "print('Tweet before cleaning: ',df1['tweet'][1])\n",
        "print('Tweet after cleaning: ',tweets[1])"
      ],
      "execution_count": 117,
      "outputs": [
        {
          "output_type": "stream",
          "text": [
            "Tweet before cleaning:  @user @user thanks for #lyft credit i can't use cause they don't offer wheelchair vans in pdx.    #disapointed #getthanked\n",
            "Tweet after cleaning:  thanks for lyft credit i can't use cause they don't offer wheelchair vans in pdx disapointed getthanked\n"
          ],
          "name": "stdout"
        }
      ]
    },
    {
      "cell_type": "code",
      "metadata": {
        "id": "RToLFGBuHzS4",
        "colab_type": "code",
        "colab": {
          "base_uri": "https://localhost:8080/",
          "height": 487
        },
        "outputId": "3c5c6baa-8832-4b52-f8ba-2119feb993d7"
      },
      "source": [
        "#Word Cloud of Top 100 Words in Hate Tweets \n",
        "from wordcloud import WordCloud, STOPWORDS  \n",
        "hate=[]\n",
        "for i in range(len(tweets)): #getting the hate tweets\n",
        "  if labels[i]==1:\n",
        "    hate.append(tweets[i])\n",
        "h=' '.join(hate)  #transforming the list of hate tweets into a single sentence\n",
        "h=mystopwords(h)\n",
        "stopwords = set(STOPWORDS)\n",
        "wordcloud = WordCloud(width = 800, height = 800, \n",
        "                background_color ='black', \n",
        "                stopwords = stopwords, \n",
        "                min_font_size = 20,max_words=100).generate(h)\n",
        "# plot the WordCloud image                        \n",
        "plt.figure(figsize = (6, 6), facecolor = None) \n",
        "plt.imshow(wordcloud) \n",
        "plt.axis(\"off\") \n",
        "plt.tight_layout(pad = 0) \n",
        "plt.title('Top 100 Words in the Hate Tweets')"
      ],
      "execution_count": 118,
      "outputs": [
        {
          "output_type": "execute_result",
          "data": {
            "text/plain": [
              "Text(0.5, 1.0, 'Top 100 Words in the Hate Tweets')"
            ]
          },
          "metadata": {
            "tags": []
          },
          "execution_count": 118
        },
        {
          "output_type": "display_data",
          "data": {
            "image/png": "[encoded data removed]",
            "text/plain": [
              "<Figure size 432x432 with 1 Axes>"
            ]
          },
          "metadata": {
            "tags": []
          }
        }
      ]
    },
    {
      "cell_type": "code",
      "metadata": {
        "id": "KlgCqbUKFxWc",
        "colab_type": "code",
        "colab": {}
      },
      "source": [
        "#Suffling the data and splitting the data into train and test sets (90:10)\n",
        "from sklearn.model_selection import train_test_split\n",
        "train_tweets, val_tweets, train_labels, val_labels= train_test_split(tweets, labels, test_size=0.1, shuffle= True,random_state=42)"
      ],
      "execution_count": 0,
      "outputs": []
    },
    {
      "cell_type": "code",
      "metadata": {
        "id": "tXueAak9LreW",
        "colab_type": "code",
        "colab": {
          "base_uri": "https://localhost:8080/",
          "height": 90
        },
        "outputId": "d424af5e-ea21-4241-8f9d-68dd550db496"
      },
      "source": [
        "#Data Summary\n",
        "print('Length of the Training Set: ',len(df1))\n",
        "print('No. of Training Examples: ',len(train_tweets))\n",
        "print('No. of Validation Examples: ',len(val_tweets))\n",
        "print('No. of Test Examples: ',len(test_tweets))"
      ],
      "execution_count": 120,
      "outputs": [
        {
          "output_type": "stream",
          "text": [
            "Length of the Training Set:  31962\n",
            "No. of Training Examples:  28765\n",
            "No. of Validation Examples:  3197\n",
            "No. of Test Examples:  17197\n"
          ],
          "name": "stdout"
        }
      ]
    },
    {
      "cell_type": "code",
      "metadata": {
        "id": "GMk1YFicNM-F",
        "colab_type": "code",
        "colab": {
          "base_uri": "https://localhost:8080/",
          "height": 35
        },
        "outputId": "f16269aa-94c6-43d1-d132-b08aa7e76b21"
      },
      "source": [
        "#Tokenization and Padding\n",
        "import tensorflow as tf\n",
        "import numpy as np\n",
        "\n",
        "from tensorflow.keras.preprocessing.text import Tokenizer\n",
        "from tensorflow.keras.preprocessing.sequence import pad_sequences\n",
        "\n",
        "\n",
        "#embedding_dim = 200\n",
        "max_length = 40\n",
        "trunc_type='post'\n",
        "padding_type='post'\n",
        "oov_tok = \"<OOV>\"\n",
        "vocab_len=49999\n",
        "\n",
        "tokenizer = Tokenizer(num_words=vocab_len+1,oov_token=oov_tok)\n",
        "tokenizer.fit_on_texts(tweets)\n",
        "\n",
        "word_index = tokenizer.word_index\n",
        "vocab_size=len(word_index)\n",
        "print('Size of Vocabulary: ',vocab_size)\n",
        "\n",
        "train_sequences = tokenizer.texts_to_sequences(train_tweets)\n",
        "train_padded = pad_sequences(train_sequences, maxlen=max_length, padding=padding_type, truncating=trunc_type)\n",
        "\n",
        "val_sequences = tokenizer.texts_to_sequences(val_tweets)\n",
        "val_padded = pad_sequences(val_sequences, maxlen=max_length, padding=padding_type, truncating=trunc_type)\n",
        "\n",
        "test_sequences = tokenizer.texts_to_sequences(test_tweets)\n",
        "test_padded = pad_sequences(test_sequences, maxlen=max_length, padding=padding_type, truncating=trunc_type)\n",
        "\n",
        "train_labels=np.expand_dims(train_labels, axis=1)\n",
        "val_labels=np.expand_dims(val_labels, axis=1)"
      ],
      "execution_count": 121,
      "outputs": [
        {
          "output_type": "stream",
          "text": [
            "Size of Vocabulary:  38363\n"
          ],
          "name": "stdout"
        }
      ]
    },
    {
      "cell_type": "code",
      "metadata": {
        "id": "EHUjkz-7Pnim",
        "colab_type": "code",
        "colab": {
          "base_uri": "https://localhost:8080/",
          "height": 109
        },
        "outputId": "f54c3b72-0d71-4738-976a-cd954a5ceb3a"
      },
      "source": [
        "#Dimension of Data after Tokenizing and Padding\n",
        "print('Dimension of Training Data: ',train_padded.shape)\n",
        "print('Dimension of Validation Data: ',val_padded.shape)\n",
        "print('Dimension of Training Labels: ',train_labels.shape)\n",
        "print('Dimension of Validation Labels: ',val_labels.shape)\n",
        "print('Dimension of Test Data: ',test_padded.shape)"
      ],
      "execution_count": 122,
      "outputs": [
        {
          "output_type": "stream",
          "text": [
            "Dimension of Training Data:  (28765, 40)\n",
            "Dimension of Validation Data:  (3197, 40)\n",
            "Dimension of Training Labels:  (28765, 1)\n",
            "Dimension of Validation Labels:  (3197, 1)\n",
            "Dimension of Test Data:  (17197, 40)\n"
          ],
          "name": "stdout"
        }
      ]
    },
    {
      "cell_type": "code",
      "metadata": {
        "id": "gBXkH7brCq7_",
        "colab_type": "code",
        "colab": {
          "base_uri": "https://localhost:8080/",
          "height": 129
        },
        "outputId": "e51c426c-33c9-4c91-af46-c9e59b0ed03a"
      },
      "source": [
        "from google.colab import drive\n",
        "drive.mount('/content/drive',force_remount=True)"
      ],
      "execution_count": 13,
      "outputs": [
        {
          "output_type": "stream",
          "text": [
            "Go to this URL in a browser: https://accounts.google.com/o/oauth2/auth?client_id=947318989803-6bn6qk8qdgf4n4g3pfee6491hc0brc4i.apps.googleusercontent.com&redirect_uri=urn%3Aietf%3Awg%3Aoauth%3A2.0%3Aoob&scope=email%20https%3A%2F%2Fwww.googleapis.com%2Fauth%2Fdocs.test%20https%3A%2F%2Fwww.googleapis.com%2Fauth%2Fdrive%20https%3A%2F%2Fwww.googleapis.com%2Fauth%2Fdrive.photos.readonly%20https%3A%2F%2Fwww.googleapis.com%2Fauth%2Fpeopleapi.readonly&response_type=code\n",
            "\n",
            "Enter your authorization code:\n",
            "··········\n",
            "Mounted at /content/drive\n"
          ],
          "name": "stdout"
        }
      ]
    },
    {
      "cell_type": "code",
      "metadata": {
        "id": "jl5Fxg6NPvSo",
        "colab_type": "code",
        "colab": {}
      },
      "source": [
        "# Unzipping the fasttext pretrained model from Google Drive\n",
        "import os\n",
        "import zipfile\n",
        "\n",
        "#local_zip='/content/drive/My Drive/glove.twitter.27B.zip'\n",
        "#local_zip='/content/drive/My Drive/crawl-300d-2M.vec.zip'\n",
        "#local_zip='/content/drive/My Drive/glove.6B.zip'\n",
        "local_zip='/content/drive/My Drive/wiki-news-300d-1M.vec.zip'\n",
        "zip_ref=zipfile.ZipFile(local_zip,'r')\n",
        "zip_ref.extractall('/content/drive/My Drive/wiki-news-300d-1M.vec')\n",
        "zip_ref.close()"
      ],
      "execution_count": 0,
      "outputs": []
    },
    {
      "cell_type": "code",
      "metadata": {
        "id": "z2vP2f3yDFog",
        "colab_type": "code",
        "colab": {}
      },
      "source": [
        "# Loading the pretrained vectors\n",
        "embeddings_index1 = {}\n",
        "embeddings_index2 = {}\n",
        "embeddings_index3 = {}\n",
        "embeddings_index4 = {}\n",
        "\n",
        "import numpy as np\n",
        "with open('/content/drive/My Drive/glove.twitter.27B/glove.twitter.27B.200d.txt') as f:\n",
        "    for line in f:\n",
        "        values = line.split()\n",
        "        word = values[0]\n",
        "        coefs = np.asarray(values[1:], dtype='float32')\n",
        "        embeddings_index1[word] = coefs\n",
        "\n",
        "with open('/content/drive/My Drive/crawl-300d-2M.vec/crawl-300d-2M.vec') as f:\n",
        "    for line in f:\n",
        "        values = line.split()\n",
        "        word = values[0]\n",
        "        coefs = np.asarray(values[1:], dtype='float32')\n",
        "        embeddings_index2[word] = coefs\n",
        "\n",
        "with open('/content/drive/My Drive/glove.6B/glove.6B.300d.txt') as f:\n",
        "    for line in f:\n",
        "        values = line.split()\n",
        "        word = values[0]\n",
        "        coefs = np.asarray(values[1:], dtype='float32')\n",
        "        embeddings_index3[word] = coefs"
      ],
      "execution_count": 0,
      "outputs": []
    },
    {
      "cell_type": "code",
      "metadata": {
        "id": "U8zBk9yXEt_O",
        "colab_type": "code",
        "colab": {
          "base_uri": "https://localhost:8080/",
          "height": 55
        },
        "outputId": "216dd322-0337-4312-b77f-acd55f9d0641"
      },
      "source": [
        "#Creating an embedding matrix that contains the vectors of the words in the dataset\n",
        "embedding_dim1=200\n",
        "embedding_dim=300\n",
        "\n",
        "embeddings_matrix1 = np.zeros((vocab_size, embedding_dim1))\n",
        "for word, i in word_index.items():\n",
        "    embedding_vector = embeddings_index1.get(word)\n",
        "    if embedding_vector is not None:\n",
        "        embeddings_matrix1[i] = embedding_vector\n",
        "        \n",
        "        \n",
        "embeddings_matrix2 = np.zeros((vocab_size, embedding_dim))\n",
        "for word, i in word_index.items():\n",
        "    embedding_vector = embeddings_index2.get(word)\n",
        "    if embedding_vector is not None:\n",
        "        embeddings_matrix2[i] = embedding_vector\n",
        "\n",
        "embeddings_matrix3 = np.zeros((vocab_size+1, embedding_dim))\n",
        "for word, i in word_index.items():\n",
        "    embedding_vector = embeddings_index3.get(word)\n",
        "    if embedding_vector is not None:\n",
        "        embeddings_matrix3[i] = embedding_vector\n",
        "        "
      ],
      "execution_count": 126,
      "outputs": [
        {
          "output_type": "execute_result",
          "data": {
            "text/plain": [
              "'embeddings_matrix3 = np.zeros((vocab_size+1, embedding_dim))\\nfor word, i in word_index.items():\\n    embedding_vector = embeddings_index3.get(word)\\n    if embedding_vector is not None:\\n        embeddings_matrix3[i] = embedding_vector\\n        \\nembeddings_matrix4 = np.zeros((vocab_size, embedding_dim))\\nfor word, i in word_index.items():\\n    embedding_vector = embeddings_index4.get(word)\\n    if embedding_vector is not None:\\n        embeddings_matrix4[i] = embedding_vector'"
            ]
          },
          "metadata": {
            "tags": []
          },
          "execution_count": 126
        }
      ]
    },
    {
      "cell_type": "code",
      "metadata": {
        "id": "QZW2FjxqEz1U",
        "colab_type": "code",
        "colab": {
          "base_uri": "https://localhost:8080/",
          "height": 90
        },
        "outputId": "61154a5a-8a17-4ef4-efe9-4f644cbf7954"
      },
      "source": [
        "print('Shape of the Embeddings Matrix (GloVe Twitter): ',embeddings_matrix1.shape)\n",
        "print('Shape of the Embeddings Matrix (fastText Crawl): ',embeddings_matrix2.shape)\n",
        "print('Shape of the Embeddings Matrix (GloVe Wiki): ',embeddings_matrix3.shape)"
      ],
      "execution_count": 127,
      "outputs": [
        {
          "output_type": "stream",
          "text": [
            "Shape of the Embeddings Matrix (GloVe Twitter):  (38363, 200)\n",
            "Shape of the Embeddings Matrix (fastText Crawl):  (38363, 300)\n",
            "Shape of the Embeddings Matrix (GloVe Wiki):  (38364, 300)\n",
            "Shape of the Embeddings Matrix (fastText WikiNews):  (38363, 300)\n"
          ],
          "name": "stdout"
        }
      ]
    },
    {
      "cell_type": "markdown",
      "metadata": {
        "id": "bEOo3S1O3AmD",
        "colab_type": "text"
      },
      "source": [
        "## **Building the model using GloVe (Twitter) pretrained embeddings**"
      ]
    },
    {
      "cell_type": "code",
      "metadata": {
        "id": "0sTn_3JvGo3g",
        "colab_type": "code",
        "colab": {}
      },
      "source": [
        "model1_lstm = tf.keras.Sequential([\n",
        "    tf.keras.layers.Embedding(vocab_size, embedding_dim1, input_length=max_length, weights = [embeddings_matrix1], trainable = False),\n",
        "    tf.keras.layers.Dropout(0.4),\n",
        "    tf.keras.layers.Bidirectional(tf.keras.layers.CuDNNLSTM(128,return_sequences=True)),\n",
        "    tf.keras.layers.Bidirectional(tf.keras.layers.CuDNNLSTM(128)),\n",
        "    tf.keras.layers.Dropout(0.2),\n",
        "    tf.keras.layers.Dense(128, activation='relu'),\n",
        "    tf.keras.layers.Dropout(0.4),\n",
        "    tf.keras.layers.Dense(64, activation='relu'),\n",
        "    tf.keras.layers.Dropout(0.5),\n",
        "    tf.keras.layers.Dense(1, activation='sigmoid')\n",
        "])"
      ],
      "execution_count": 0,
      "outputs": []
    },
    {
      "cell_type": "code",
      "metadata": {
        "id": "fCi4LZFxHXJ4",
        "colab_type": "code",
        "colab": {
          "base_uri": "https://localhost:8080/",
          "height": 403
        },
        "outputId": "8ece55bb-badb-46e3-a5e5-5e15b7f6d29b"
      },
      "source": [
        "reduce =tf. keras.callbacks.ReduceLROnPlateau(monitor='val_loss', factor=0.1, patience=3, mode='auto')\n",
        "#early = tf.keras.callbacks.EarlyStopping(monitor='val_loss', min_delta=1e-4, patience=10, mode='auto')\n",
        "model1_lstm.compile(loss='binary_crossentropy',optimizer='adam',metrics=['accuracy'])\n",
        "num_epochs = 10\n",
        "history1=model1_lstm.fit(train_padded, \n",
        "                    train_labels, \n",
        "                    epochs=num_epochs, \n",
        "                    batch_size=256, \n",
        "                    validation_data=(val_padded,val_labels),\n",
        "                    callbacks=[reduce],\n",
        "                    verbose=1)"
      ],
      "execution_count": 132,
      "outputs": [
        {
          "output_type": "stream",
          "text": [
            "Train on 28765 samples, validate on 3197 samples\n",
            "Epoch 1/10\n",
            "28765/28765 [==============================] - 11s 397us/sample - loss: 0.2180 - acc: 0.9298 - val_loss: 0.1349 - val_acc: 0.9484\n",
            "Epoch 2/10\n",
            "28765/28765 [==============================] - 8s 272us/sample - loss: 0.1538 - acc: 0.9465 - val_loss: 0.1281 - val_acc: 0.9525\n",
            "Epoch 3/10\n",
            "28765/28765 [==============================] - 8s 273us/sample - loss: 0.1407 - acc: 0.9495 - val_loss: 0.1331 - val_acc: 0.9528\n",
            "Epoch 4/10\n",
            "28765/28765 [==============================] - 8s 274us/sample - loss: 0.1319 - acc: 0.9541 - val_loss: 0.1158 - val_acc: 0.9543\n",
            "Epoch 5/10\n",
            "28765/28765 [==============================] - 8s 274us/sample - loss: 0.1237 - acc: 0.9559 - val_loss: 0.1103 - val_acc: 0.9562\n",
            "Epoch 6/10\n",
            "28765/28765 [==============================] - 8s 274us/sample - loss: 0.1123 - acc: 0.9595 - val_loss: 0.1092 - val_acc: 0.9578\n",
            "Epoch 7/10\n",
            "28765/28765 [==============================] - 8s 274us/sample - loss: 0.1079 - acc: 0.9621 - val_loss: 0.1079 - val_acc: 0.9581\n",
            "Epoch 8/10\n",
            "28765/28765 [==============================] - 8s 273us/sample - loss: 0.0985 - acc: 0.9639 - val_loss: 0.1050 - val_acc: 0.9603\n",
            "Epoch 9/10\n",
            "28765/28765 [==============================] - 8s 273us/sample - loss: 0.0937 - acc: 0.9667 - val_loss: 0.1102 - val_acc: 0.9556\n",
            "Epoch 10/10\n",
            "28765/28765 [==============================] - 8s 272us/sample - loss: 0.0854 - acc: 0.9687 - val_loss: 0.1029 - val_acc: 0.9647\n"
          ],
          "name": "stdout"
        }
      ]
    },
    {
      "cell_type": "code",
      "metadata": {
        "id": "Ykivcg33QCav",
        "colab_type": "code",
        "colab": {
          "base_uri": "https://localhost:8080/",
          "height": 788
        },
        "outputId": "05cbb5db-d9d3-47ab-80d5-8f7cc57e80a2"
      },
      "source": [
        "#Determining the optimal threshold value to seggregate the classes\n",
        "pred1= model1_lstm.predict(val_padded, batch_size=256,verbose=1)\n",
        "from sklearn import metrics\n",
        "for thresh in np.arange(0.1, 0.501, 0.01):\n",
        "    thresh = np.round(thresh, 2)\n",
        "    print(\"F1 score at threshold {0} is {1}\".format(thresh, metrics.f1_score(val_labels, (pred1>thresh).astype(int))))"
      ],
      "execution_count": 133,
      "outputs": [
        {
          "output_type": "stream",
          "text": [
            "3197/3197 [==============================] - 1s 319us/sample\n",
            "F1 score at threshold 0.1 is 0.6371681415929203\n",
            "F1 score at threshold 0.11 is 0.6484517304189436\n",
            "F1 score at threshold 0.12 is 0.6579925650557621\n",
            "F1 score at threshold 0.13 is 0.6629001883239172\n",
            "F1 score at threshold 0.14 is 0.6717557251908397\n",
            "F1 score at threshold 0.15 is 0.6705202312138728\n",
            "F1 score at threshold 0.16 is 0.6784313725490195\n",
            "F1 score at threshold 0.17 is 0.6798418972332015\n",
            "F1 score at threshold 0.18 is 0.68389662027833\n",
            "F1 score at threshold 0.19 is 0.6829268292682926\n",
            "F1 score at threshold 0.2 is 0.6748971193415637\n",
            "F1 score at threshold 0.21 is 0.6804979253112032\n",
            "F1 score at threshold 0.22 is 0.6919831223628692\n",
            "F1 score at threshold 0.23 is 0.6950959488272921\n",
            "F1 score at threshold 0.24 is 0.6995708154506439\n",
            "F1 score at threshold 0.25 is 0.7012987012987013\n",
            "F1 score at threshold 0.26 is 0.7002188183807438\n",
            "F1 score at threshold 0.27 is 0.70509977827051\n",
            "F1 score at threshold 0.28 is 0.701123595505618\n",
            "F1 score at threshold 0.29 is 0.7048054919908466\n",
            "F1 score at threshold 0.3 is 0.7080459770114943\n",
            "F1 score at threshold 0.31 is 0.7006960556844547\n",
            "F1 score at threshold 0.32 is 0.705607476635514\n",
            "F1 score at threshold 0.33 is 0.7058823529411764\n",
            "F1 score at threshold 0.34 is 0.7064439140811456\n",
            "F1 score at threshold 0.35 is 0.7070217917675543\n",
            "F1 score at threshold 0.36 is 0.7055961070559611\n",
            "F1 score at threshold 0.37 is 0.704156479217604\n",
            "F1 score at threshold 0.38 is 0.713216957605985\n",
            "F1 score at threshold 0.39 is 0.7204030226700252\n",
            "F1 score at threshold 0.4 is 0.7204030226700252\n",
            "F1 score at threshold 0.41 is 0.7139240506329114\n",
            "F1 score at threshold 0.42 is 0.7139240506329114\n",
            "F1 score at threshold 0.43 is 0.7106598984771575\n",
            "F1 score at threshold 0.44 is 0.712468193384224\n",
            "F1 score at threshold 0.45 is 0.7109974424552431\n",
            "F1 score at threshold 0.46 is 0.7061855670103093\n",
            "F1 score at threshold 0.47 is 0.7098445595854921\n",
            "F1 score at threshold 0.48 is 0.7031250000000001\n",
            "F1 score at threshold 0.49 is 0.6981627296587927\n",
            "F1 score at threshold 0.5 is 0.70026525198939\n"
          ],
          "name": "stdout"
        }
      ]
    },
    {
      "cell_type": "code",
      "metadata": {
        "id": "-tk_evjeHgqU",
        "colab_type": "code",
        "colab": {
          "base_uri": "https://localhost:8080/",
          "height": 539
        },
        "outputId": "f4f6d286-af9d-44d3-9ca2-171197badfa9"
      },
      "source": [
        "#From above, we can see that F1 score is highest at a threshold of 0.4\n",
        "pred_val_labels1=(pred1>0.4).astype(int)\n",
        "\n",
        "from sklearn.metrics import classification_report\n",
        "print(classification_report(val_labels,pred_val_labels1))\n",
        "\n",
        "import matplotlib.pyplot as plt\n",
        "from sklearn.metrics import confusion_matrix\n",
        "print(confusion_matrix(val_labels, pred_val_labels1))\n",
        "CM = confusion_matrix(val_labels, pred_val_labels1)\n",
        "from mlxtend.plotting import plot_confusion_matrix\n",
        "fig, ax = plot_confusion_matrix(conf_mat=CM ,  figsize=(5, 5))\n",
        "plt.show()\n",
        "  "
      ],
      "execution_count": 134,
      "outputs": [
        {
          "output_type": "stream",
          "text": [
            "              precision    recall  f1-score   support\n",
            "\n",
            "           0       0.98      0.99      0.98      2984\n",
            "           1       0.78      0.67      0.72       213\n",
            "\n",
            "    accuracy                           0.97      3197\n",
            "   macro avg       0.88      0.83      0.85      3197\n",
            "weighted avg       0.96      0.97      0.96      3197\n",
            "\n",
            "[[2943   41]\n",
            " [  70  143]]\n"
          ],
          "name": "stdout"
        },
        {
          "output_type": "display_data",
          "data": {
            "image/png": "[encoded data removed]",
            "text/plain": [
              "<Figure size 360x360 with 1 Axes>"
            ]
          },
          "metadata": {
            "tags": []
          }
        }
      ]
    },
    {
      "cell_type": "markdown",
      "metadata": {
        "id": "cpOG9T3W21zJ",
        "colab_type": "text"
      },
      "source": [
        "## **Building the model using fastText (Common Crawl) pretrained embeddings**"
      ]
    },
    {
      "cell_type": "code",
      "metadata": {
        "id": "VB0lXTu4tm1g",
        "colab_type": "code",
        "colab": {}
      },
      "source": [
        "model2_lstm = tf.keras.Sequential([\n",
        "    tf.keras.layers.Embedding(vocab_size, embedding_dim2, input_length=max_length, weights = [embeddings_matrix2], trainable = False),\n",
        "    tf.keras.layers.Dropout(0.4),\n",
        "    tf.keras.layers.Bidirectional(tf.keras.layers.CuDNNLSTM(128,return_sequences=True)),\n",
        "    tf.keras.layers.Dropout(0.2),\n",
        "    tf.keras.layers.Bidirectional(tf.keras.layers.CuDNNLSTM(128)),\n",
        "    tf.keras.layers.Dropout(0.2),\n",
        "    tf.keras.layers.Dense(128, activation='relu'),\n",
        "    tf.keras.layers.Dropout(0.4),\n",
        "    tf.keras.layers.Dense(64, activation='relu'),\n",
        "    tf.keras.layers.Dropout(0.5),\n",
        "    tf.keras.layers.Dense(1, activation='sigmoid')\n",
        "])"
      ],
      "execution_count": 0,
      "outputs": []
    },
    {
      "cell_type": "code",
      "metadata": {
        "id": "9wzdOJKjwwwW",
        "colab_type": "code",
        "colab": {
          "base_uri": "https://localhost:8080/",
          "height": 403
        },
        "outputId": "d4de644a-adf9-41e8-e87e-752df49ce6db"
      },
      "source": [
        "reduce =tf. keras.callbacks.ReduceLROnPlateau(monitor='val_loss', factor=0.1, patience=3, mode='auto')\n",
        "#early = tf.keras.callbacks.EarlyStopping(monitor='val_loss', min_delta=1e-4, patience=10, mode='auto')\n",
        "model2_lstm.compile(loss='binary_crossentropy',optimizer='adam',metrics=['accuracy'])\n",
        "num_epochs = 10\n",
        "history2=model2_lstm.fit(train_padded, \n",
        "                    train_labels, \n",
        "                    epochs=num_epochs, \n",
        "                    batch_size=256, \n",
        "                    validation_data=(val_padded,val_labels),\n",
        "                    callbacks=[reduce],\n",
        "                    verbose=1)"
      ],
      "execution_count": 137,
      "outputs": [
        {
          "output_type": "stream",
          "text": [
            "Train on 28765 samples, validate on 3197 samples\n",
            "Epoch 1/10\n",
            "28765/28765 [==============================] - 12s 423us/sample - loss: 0.2009 - acc: 0.9331 - val_loss: 0.1310 - val_acc: 0.9478\n",
            "Epoch 2/10\n",
            "28765/28765 [==============================] - 8s 284us/sample - loss: 0.1421 - acc: 0.9508 - val_loss: 0.1266 - val_acc: 0.9540\n",
            "Epoch 3/10\n",
            "28765/28765 [==============================] - 8s 286us/sample - loss: 0.1339 - acc: 0.9524 - val_loss: 0.1203 - val_acc: 0.9578\n",
            "Epoch 4/10\n",
            "28765/28765 [==============================] - 8s 284us/sample - loss: 0.1238 - acc: 0.9560 - val_loss: 0.1115 - val_acc: 0.9603\n",
            "Epoch 5/10\n",
            "28765/28765 [==============================] - 8s 287us/sample - loss: 0.1165 - acc: 0.9586 - val_loss: 0.1077 - val_acc: 0.9603\n",
            "Epoch 6/10\n",
            "28765/28765 [==============================] - 8s 284us/sample - loss: 0.1096 - acc: 0.9602 - val_loss: 0.1066 - val_acc: 0.9606\n",
            "Epoch 7/10\n",
            "28765/28765 [==============================] - 8s 285us/sample - loss: 0.1019 - acc: 0.9634 - val_loss: 0.1048 - val_acc: 0.9622\n",
            "Epoch 8/10\n",
            "28765/28765 [==============================] - 8s 285us/sample - loss: 0.0965 - acc: 0.9653 - val_loss: 0.1030 - val_acc: 0.9631\n",
            "Epoch 9/10\n",
            "28765/28765 [==============================] - 8s 285us/sample - loss: 0.0921 - acc: 0.9665 - val_loss: 0.0988 - val_acc: 0.9653\n",
            "Epoch 10/10\n",
            "28765/28765 [==============================] - 8s 287us/sample - loss: 0.0861 - acc: 0.9698 - val_loss: 0.1027 - val_acc: 0.9662\n"
          ],
          "name": "stdout"
        }
      ]
    },
    {
      "cell_type": "code",
      "metadata": {
        "id": "u7c9qjxewx0W",
        "colab_type": "code",
        "colab": {
          "base_uri": "https://localhost:8080/",
          "height": 788
        },
        "outputId": "1bdcf916-e9ae-4383-e1d8-3a8e3978601b"
      },
      "source": [
        "#Determining the optimal threshold value to seggregate the classes\n",
        "pred2= model2_lstm.predict(val_padded, batch_size=256,verbose=1)\n",
        "from sklearn import metrics\n",
        "for thresh in np.arange(0.1, 0.501, 0.01):\n",
        "    thresh = np.round(thresh, 2)\n",
        "    print(\"F1 score at threshold {0} is {1}\".format(thresh, metrics.f1_score(val_labels, (pred2>thresh).astype(int))))"
      ],
      "execution_count": 138,
      "outputs": [
        {
          "output_type": "stream",
          "text": [
            "3197/3197 [==============================] - 1s 354us/sample\n",
            "F1 score at threshold 0.1 is 0.6679536679536681\n",
            "F1 score at threshold 0.11 is 0.6758349705304518\n",
            "F1 score at threshold 0.12 is 0.68\n",
            "F1 score at threshold 0.13 is 0.686868686868687\n",
            "F1 score at threshold 0.14 is 0.6995884773662552\n",
            "F1 score at threshold 0.15 is 0.7112970711297072\n",
            "F1 score at threshold 0.16 is 0.7091295116772823\n",
            "F1 score at threshold 0.17 is 0.7109207708779444\n",
            "F1 score at threshold 0.18 is 0.712742980561555\n",
            "F1 score at threshold 0.19 is 0.7076923076923077\n",
            "F1 score at threshold 0.2 is 0.7035398230088497\n",
            "F1 score at threshold 0.21 is 0.7085201793721975\n",
            "F1 score at threshold 0.22 is 0.7165532879818594\n",
            "F1 score at threshold 0.23 is 0.7123287671232877\n",
            "F1 score at threshold 0.24 is 0.7139588100686498\n",
            "F1 score at threshold 0.25 is 0.7146171693735499\n",
            "F1 score at threshold 0.26 is 0.7132867132867133\n",
            "F1 score at threshold 0.27 is 0.7058823529411764\n",
            "F1 score at threshold 0.28 is 0.7092198581560283\n",
            "F1 score at threshold 0.29 is 0.7064439140811456\n",
            "F1 score at threshold 0.3 is 0.7132530120481928\n",
            "F1 score at threshold 0.31 is 0.7087378640776699\n",
            "F1 score at threshold 0.32 is 0.7076167076167077\n",
            "F1 score at threshold 0.33 is 0.713216957605985\n",
            "F1 score at threshold 0.34 is 0.7167919799498748\n",
            "F1 score at threshold 0.35 is 0.7167919799498748\n",
            "F1 score at threshold 0.36 is 0.7153652392947103\n",
            "F1 score at threshold 0.37 is 0.72264631043257\n",
            "F1 score at threshold 0.38 is 0.7244897959183674\n",
            "F1 score at threshold 0.39 is 0.721227621483376\n",
            "F1 score at threshold 0.4 is 0.7216494845360826\n",
            "F1 score at threshold 0.41 is 0.7253886010362695\n",
            "F1 score at threshold 0.42 is 0.7253886010362695\n",
            "F1 score at threshold 0.43 is 0.7220779220779221\n",
            "F1 score at threshold 0.44 is 0.7206266318537858\n",
            "F1 score at threshold 0.45 is 0.7206266318537858\n",
            "F1 score at threshold 0.46 is 0.7206266318537858\n",
            "F1 score at threshold 0.47 is 0.7206266318537858\n",
            "F1 score at threshold 0.48 is 0.7139107611548556\n",
            "F1 score at threshold 0.49 is 0.7139107611548556\n",
            "F1 score at threshold 0.5 is 0.7142857142857142\n"
          ],
          "name": "stdout"
        }
      ]
    },
    {
      "cell_type": "code",
      "metadata": {
        "id": "3agNf7SzwyJ6",
        "colab_type": "code",
        "colab": {
          "base_uri": "https://localhost:8080/",
          "height": 539
        },
        "outputId": "0d2fc6b4-adc0-46b6-dd0e-5caa1e9290ca"
      },
      "source": [
        "pred_val_labels2=(pred2>0.42).astype(int)\n",
        "\n",
        "from sklearn.metrics import classification_report\n",
        "print(classification_report(val_labels,pred_val_labels2))\n",
        "\n",
        "import matplotlib.pyplot as plt\n",
        "from sklearn.metrics import confusion_matrix\n",
        "print(confusion_matrix(val_labels, pred_val_labels2))\n",
        "CM = confusion_matrix(val_labels, pred_val_labels2)\n",
        "from mlxtend.plotting import plot_confusion_matrix\n",
        "fig, ax = plot_confusion_matrix(conf_mat=CM ,  figsize=(5, 5))\n",
        "plt.show()\n",
        "  "
      ],
      "execution_count": 139,
      "outputs": [
        {
          "output_type": "stream",
          "text": [
            "              precision    recall  f1-score   support\n",
            "\n",
            "           0       0.98      0.99      0.98      2984\n",
            "           1       0.81      0.66      0.73       213\n",
            "\n",
            "    accuracy                           0.97      3197\n",
            "   macro avg       0.89      0.82      0.85      3197\n",
            "weighted avg       0.96      0.97      0.97      3197\n",
            "\n",
            "[[2951   33]\n",
            " [  73  140]]\n"
          ],
          "name": "stdout"
        },
        {
          "output_type": "display_data",
          "data": {
            "image/png": "[encoded data removed]",
            "text/plain": [
              "<Figure size 360x360 with 1 Axes>"
            ]
          },
          "metadata": {
            "tags": []
          }
        }
      ]
    },
    {
      "cell_type": "markdown",
      "metadata": {
        "id": "oiGhVEWUQAFi",
        "colab_type": "text"
      },
      "source": [
        "## **Building the model using GloVe(Wiki) pretrained embeddings**"
      ]
    },
    {
      "cell_type": "code",
      "metadata": {
        "id": "D15Bpc6ALtbI",
        "colab_type": "code",
        "colab": {}
      },
      "source": [
        "model3_lstm = tf.keras.Sequential([\n",
        "    tf.keras.layers.Embedding(vocab_size+1, embedding_dim, input_length=max_length, weights = [embeddings_matrix3], trainable = False),\n",
        "    tf.keras.layers.Dropout(0.4),\n",
        "    tf.keras.layers.Bidirectional(tf.keras.layers.CuDNNLSTM(128,return_sequences=True)),\n",
        "    tf.keras.layers.Dropout(0.2),\n",
        "    tf.keras.layers.Bidirectional(tf.keras.layers.CuDNNLSTM(128)),\n",
        "    tf.keras.layers.Dropout(0.2),\n",
        "    tf.keras.layers.Dense(128, activation='relu'),\n",
        "    tf.keras.layers.Dropout(0.4),\n",
        "    tf.keras.layers.Dense(64, activation='relu'),\n",
        "    tf.keras.layers.Dropout(0.5),\n",
        "    tf.keras.layers.Dense(1, activation='sigmoid')\n",
        "])"
      ],
      "execution_count": 0,
      "outputs": []
    },
    {
      "cell_type": "code",
      "metadata": {
        "id": "SyPH8ZqdLyJZ",
        "colab_type": "code",
        "colab": {
          "base_uri": "https://localhost:8080/",
          "height": 403
        },
        "outputId": "1f3e6602-1ea0-4dd1-9251-f6db3b8bfe0a"
      },
      "source": [
        "reduce =tf. keras.callbacks.ReduceLROnPlateau(monitor='val_loss', factor=0.1, patience=3, mode='auto')\n",
        "#early = tf.keras.callbacks.EarlyStopping(monitor='val_loss', min_delta=1e-4, patience=10, mode='auto')\n",
        "model3_lstm.compile(loss='binary_crossentropy',optimizer='adam',metrics=['accuracy'])\n",
        "num_epochs = 10\n",
        "history3=model3_lstm.fit(train_padded, \n",
        "                    train_labels, \n",
        "                    epochs=num_epochs, \n",
        "                    batch_size=256, \n",
        "                    validation_data=(val_padded,val_labels),\n",
        "                    callbacks=[reduce],\n",
        "                    verbose=1)"
      ],
      "execution_count": 144,
      "outputs": [
        {
          "output_type": "stream",
          "text": [
            "Train on 28765 samples, validate on 3197 samples\n",
            "Epoch 1/10\n",
            "28765/28765 [==============================] - 12s 432us/sample - loss: 0.2159 - acc: 0.9323 - val_loss: 0.1414 - val_acc: 0.9462\n",
            "Epoch 2/10\n",
            "28765/28765 [==============================] - 8s 288us/sample - loss: 0.1523 - acc: 0.9463 - val_loss: 0.1294 - val_acc: 0.9537\n",
            "Epoch 3/10\n",
            "28765/28765 [==============================] - 8s 289us/sample - loss: 0.1406 - acc: 0.9515 - val_loss: 0.1241 - val_acc: 0.9546\n",
            "Epoch 4/10\n",
            "28765/28765 [==============================] - 8s 290us/sample - loss: 0.1275 - acc: 0.9548 - val_loss: 0.1266 - val_acc: 0.9565\n",
            "Epoch 5/10\n",
            "28765/28765 [==============================] - 8s 289us/sample - loss: 0.1202 - acc: 0.9587 - val_loss: 0.1140 - val_acc: 0.9593\n",
            "Epoch 6/10\n",
            "28765/28765 [==============================] - 8s 289us/sample - loss: 0.1099 - acc: 0.9610 - val_loss: 0.1217 - val_acc: 0.9615\n",
            "Epoch 7/10\n",
            "28765/28765 [==============================] - 8s 290us/sample - loss: 0.1050 - acc: 0.9639 - val_loss: 0.1114 - val_acc: 0.9618\n",
            "Epoch 8/10\n",
            "28765/28765 [==============================] - 8s 290us/sample - loss: 0.0933 - acc: 0.9661 - val_loss: 0.1117 - val_acc: 0.9637\n",
            "Epoch 9/10\n",
            "28765/28765 [==============================] - 8s 290us/sample - loss: 0.0865 - acc: 0.9701 - val_loss: 0.1111 - val_acc: 0.9650\n",
            "Epoch 10/10\n",
            "28765/28765 [==============================] - 8s 290us/sample - loss: 0.0774 - acc: 0.9736 - val_loss: 0.1054 - val_acc: 0.9656\n"
          ],
          "name": "stdout"
        }
      ]
    },
    {
      "cell_type": "code",
      "metadata": {
        "id": "jmGgQ-TJL5c4",
        "colab_type": "code",
        "colab": {
          "base_uri": "https://localhost:8080/",
          "height": 788
        },
        "outputId": "3cf76dfe-aa69-4afd-9b21-58af9293430f"
      },
      "source": [
        "#Determining the optimal threshold value to seggregate the classes\n",
        "pred3= model3_lstm.predict(val_padded, batch_size=256,verbose=1)\n",
        "from sklearn import metrics\n",
        "for thresh in np.arange(0.1, 0.501, 0.01):\n",
        "    thresh = np.round(thresh, 2)\n",
        "    print(\"F1 score at threshold {0} is {1}\".format(thresh, metrics.f1_score(val_labels, (pred3>thresh).astype(int))))"
      ],
      "execution_count": 145,
      "outputs": [
        {
          "output_type": "stream",
          "text": [
            "3197/3197 [==============================] - 1s 320us/sample\n",
            "F1 score at threshold 0.1 is 0.5826513911620295\n",
            "F1 score at threshold 0.11 is 0.5906040268456376\n",
            "F1 score at threshold 0.12 is 0.5996592844974447\n",
            "F1 score at threshold 0.13 is 0.6151142355008787\n",
            "F1 score at threshold 0.14 is 0.6227758007117438\n",
            "F1 score at threshold 0.15 is 0.6327272727272726\n",
            "F1 score at threshold 0.16 is 0.6408839779005525\n",
            "F1 score at threshold 0.17 is 0.6641221374045801\n",
            "F1 score at threshold 0.18 is 0.6796875\n",
            "F1 score at threshold 0.19 is 0.6850393700787402\n",
            "F1 score at threshold 0.2 is 0.68937875751503\n",
            "F1 score at threshold 0.21 is 0.6829268292682926\n",
            "F1 score at threshold 0.22 is 0.6871165644171779\n",
            "F1 score at threshold 0.23 is 0.6861924686192469\n",
            "F1 score at threshold 0.24 is 0.690677966101695\n",
            "F1 score at threshold 0.25 is 0.6909871244635193\n",
            "F1 score at threshold 0.26 is 0.69281045751634\n",
            "F1 score at threshold 0.27 is 0.6916299559471365\n",
            "F1 score at threshold 0.28 is 0.6948775055679288\n",
            "F1 score at threshold 0.29 is 0.6919642857142857\n",
            "F1 score at threshold 0.3 is 0.6876404494382022\n",
            "F1 score at threshold 0.31 is 0.6938775510204082\n",
            "F1 score at threshold 0.32 is 0.6986301369863014\n",
            "F1 score at threshold 0.33 is 0.7020785219399538\n",
            "F1 score at threshold 0.34 is 0.7037037037037036\n",
            "F1 score at threshold 0.35 is 0.7069767441860465\n",
            "F1 score at threshold 0.36 is 0.7136150234741784\n",
            "F1 score at threshold 0.37 is 0.7105882352941176\n",
            "F1 score at threshold 0.38 is 0.719047619047619\n",
            "F1 score at threshold 0.39 is 0.7194244604316546\n",
            "F1 score at threshold 0.4 is 0.7228915662650602\n",
            "F1 score at threshold 0.41 is 0.7233009708737864\n",
            "F1 score at threshold 0.42 is 0.7286063569682152\n",
            "F1 score at threshold 0.43 is 0.7303921568627451\n",
            "F1 score at threshold 0.44 is 0.7321867321867321\n",
            "F1 score at threshold 0.45 is 0.7339901477832512\n",
            "F1 score at threshold 0.46 is 0.7295285359801489\n",
            "F1 score at threshold 0.47 is 0.7281795511221945\n",
            "F1 score at threshold 0.48 is 0.7254408060453401\n",
            "F1 score at threshold 0.49 is 0.7254408060453401\n",
            "F1 score at threshold 0.5 is 0.7208121827411168\n"
          ],
          "name": "stdout"
        }
      ]
    },
    {
      "cell_type": "code",
      "metadata": {
        "id": "3rW_kpFXL5vJ",
        "colab_type": "code",
        "colab": {
          "base_uri": "https://localhost:8080/",
          "height": 539
        },
        "outputId": "6c0b988f-61e5-4902-aa26-6675df98a95c"
      },
      "source": [
        "pred_val_labels3=(pred3>0.45).astype(int)\n",
        "\n",
        "from sklearn.metrics import classification_report\n",
        "print(classification_report(val_labels,pred_val_labels3))\n",
        "\n",
        "import matplotlib.pyplot as plt\n",
        "from sklearn.metrics import confusion_matrix\n",
        "print(confusion_matrix(val_labels, pred_val_labels3))\n",
        "CM = confusion_matrix(val_labels, pred_val_labels3)\n",
        "from mlxtend.plotting import plot_confusion_matrix\n",
        "fig, ax = plot_confusion_matrix(conf_mat=CM ,  figsize=(5, 5))\n",
        "plt.show()"
      ],
      "execution_count": 146,
      "outputs": [
        {
          "output_type": "stream",
          "text": [
            "              precision    recall  f1-score   support\n",
            "\n",
            "           0       0.98      0.99      0.98      2984\n",
            "           1       0.77      0.70      0.73       213\n",
            "\n",
            "    accuracy                           0.97      3197\n",
            "   macro avg       0.88      0.84      0.86      3197\n",
            "weighted avg       0.96      0.97      0.97      3197\n",
            "\n",
            "[[2940   44]\n",
            " [  64  149]]\n"
          ],
          "name": "stdout"
        },
        {
          "output_type": "display_data",
          "data": {
            "image/png": "[encoded data removed]",
            "text/plain": [
              "<Figure size 360x360 with 1 Axes>"
            ]
          },
          "metadata": {
            "tags": []
          }
        }
      ]
    },
    {
      "cell_type": "markdown",
      "metadata": {
        "id": "RwN7epZR3XoE",
        "colab_type": "text"
      },
      "source": [
        "##**Ensemble Model**"
      ]
    },
    {
      "cell_type": "code",
      "metadata": {
        "id": "bp2DVrRg0Zm-",
        "colab_type": "code",
        "colab": {
          "base_uri": "https://localhost:8080/",
          "height": 825
        },
        "outputId": "868a32f3-2844-4157-caef-6180c568a8ae"
      },
      "source": [
        "pred1_l = model1_lstm.predict(val_padded, batch_size=256,verbose=1)\n",
        "pred2_l = model2_lstm.predict(val_padded, batch_size=256,verbose=1)\n",
        "pred3_1 = model3_lstm.predict(val_padded, batch_size=256,verbose=1)\n",
        "pred_val = 0.5*pred1_l + 0.25*pred2_l + 0.25*pred3_1\n",
        "\n",
        "for thresh in np.arange(0.1, 0.501, 0.01):\n",
        "    thresh = np.round(thresh, 2)\n",
        "    print(\"F1 score at threshold {0} is {1}\".format(thresh, metrics.f1_score(val_labels, (pred_val>thresh).astype(int))))"
      ],
      "execution_count": 164,
      "outputs": [
        {
          "output_type": "stream",
          "text": [
            "3197/3197 [==============================] - 0s 121us/sample\n",
            "3197/3197 [==============================] - 0s 106us/sample\n",
            "3197/3197 [==============================] - 0s 90us/sample\n",
            "F1 score at threshold 0.1 is 0.6506849315068494\n",
            "F1 score at threshold 0.11 is 0.658493870402802\n",
            "F1 score at threshold 0.12 is 0.6583184257602862\n",
            "F1 score at threshold 0.13 is 0.6715328467153285\n",
            "F1 score at threshold 0.14 is 0.6728971962616822\n",
            "F1 score at threshold 0.15 is 0.6793893129770993\n",
            "F1 score at threshold 0.16 is 0.6820809248554914\n",
            "F1 score at threshold 0.17 is 0.683794466403162\n",
            "F1 score at threshold 0.18 is 0.6975806451612904\n",
            "F1 score at threshold 0.19 is 0.7063655030800821\n",
            "F1 score at threshold 0.2 is 0.7136929460580912\n",
            "F1 score at threshold 0.21 is 0.7200000000000001\n",
            "F1 score at threshold 0.22 is 0.7215189873417721\n",
            "F1 score at threshold 0.23 is 0.7237687366167024\n",
            "F1 score at threshold 0.24 is 0.7331887201735359\n",
            "F1 score at threshold 0.25 is 0.7352297592997812\n",
            "F1 score at threshold 0.26 is 0.7340659340659341\n",
            "F1 score at threshold 0.27 is 0.734966592427617\n",
            "F1 score at threshold 0.28 is 0.7449209932279909\n",
            "F1 score at threshold 0.29 is 0.749425287356322\n",
            "F1 score at threshold 0.3 is 0.7470997679814386\n",
            "F1 score at threshold 0.31 is 0.7505827505827507\n",
            "F1 score at threshold 0.32 is 0.7576470588235295\n",
            "F1 score at threshold 0.33 is 0.7600950118764845\n",
            "F1 score at threshold 0.34 is 0.7511961722488039\n",
            "F1 score at threshold 0.35 is 0.7536231884057972\n",
            "F1 score at threshold 0.36 is 0.7450980392156863\n",
            "F1 score at threshold 0.37 is 0.736318407960199\n",
            "F1 score at threshold 0.38 is 0.7368421052631579\n",
            "F1 score at threshold 0.39 is 0.7341772151898733\n",
            "F1 score at threshold 0.4 is 0.7328244274809161\n",
            "F1 score at threshold 0.41 is 0.7333333333333335\n",
            "F1 score at threshold 0.42 is 0.7268041237113402\n",
            "F1 score at threshold 0.43 is 0.7168831168831168\n",
            "F1 score at threshold 0.44 is 0.7154046997389034\n",
            "F1 score at threshold 0.45 is 0.7154046997389034\n",
            "F1 score at threshold 0.46 is 0.7154046997389034\n",
            "F1 score at threshold 0.47 is 0.7142857142857142\n",
            "F1 score at threshold 0.48 is 0.7142857142857142\n",
            "F1 score at threshold 0.49 is 0.7161803713527851\n",
            "F1 score at threshold 0.5 is 0.72\n"
          ],
          "name": "stdout"
        }
      ]
    },
    {
      "cell_type": "code",
      "metadata": {
        "id": "DJw2aBic1Pl6",
        "colab_type": "code",
        "colab": {
          "base_uri": "https://localhost:8080/",
          "height": 539
        },
        "outputId": "9065669a-c91f-42f0-ae59-eee22b5f3ffd"
      },
      "source": [
        "pred_val_labels=(pred_val>0.33).astype(int)\n",
        "\n",
        "from sklearn.metrics import classification_report\n",
        "print(classification_report(val_labels,pred_val_labels))\n",
        "\n",
        "import matplotlib.pyplot as plt\n",
        "from sklearn.metrics import confusion_matrix\n",
        "print(confusion_matrix(val_labels, pred_val_labels))\n",
        "CM = confusion_matrix(val_labels, pred_val_labels)\n",
        "from mlxtend.plotting import plot_confusion_matrix\n",
        "fig, ax = plot_confusion_matrix(conf_mat=CM ,  figsize=(5, 5))\n",
        "plt.show()"
      ],
      "execution_count": 156,
      "outputs": [
        {
          "output_type": "stream",
          "text": [
            "              precision    recall  f1-score   support\n",
            "\n",
            "           0       0.98      0.98      0.98      2984\n",
            "           1       0.77      0.75      0.76       213\n",
            "\n",
            "    accuracy                           0.97      3197\n",
            "   macro avg       0.88      0.87      0.87      3197\n",
            "weighted avg       0.97      0.97      0.97      3197\n",
            "\n",
            "[[2936   48]\n",
            " [  53  160]]\n"
          ],
          "name": "stdout"
        },
        {
          "output_type": "display_data",
          "data": {
            "image/png": "[encoded data removed]",
            "text/plain": [
              "<Figure size 360x360 with 1 Axes>"
            ]
          },
          "metadata": {
            "tags": []
          }
        }
      ]
    },
    {
      "cell_type": "markdown",
      "metadata": {
        "id": "6fM6Mlbl4gUV",
        "colab_type": "text"
      },
      "source": [
        "##**Ensemble Model gives the best F1 Score**"
      ]
    },
    {
      "cell_type": "code",
      "metadata": {
        "id": "_h5yFzjd1PdC",
        "colab_type": "code",
        "colab": {
          "base_uri": "https://localhost:8080/",
          "height": 72
        },
        "outputId": "99c436fd-e14c-4b50-e113-ee446600ce91"
      },
      "source": [
        "pred_test1 = model1_lstm.predict(test_padded, batch_size=256,verbose=1)\n",
        "pred_test2 = model2_lstm.predict(test_padded, batch_size=256,verbose=1)\n",
        "pred_test3 = model3_lstm.predict(test_padded, batch_size=256,verbose=1)\n",
        "pred_test = 0.5*pred_test1 + 0.25*pred_test2 + 0.25*pred_test3 \n",
        "pred_test_labels = (pred_test>0.33).astype(int)\n",
        "out_df = pd.DataFrame({'id':df2['id'].values})\n",
        "out_df['label'] = pred_test_labels\n",
        "out_df.to_csv('submission.csv', index=False)"
      ],
      "execution_count": 153,
      "outputs": [
        {
          "output_type": "stream",
          "text": [
            "17197/17197 [==============================] - 2s 93us/sample\n",
            "17197/17197 [==============================] - 2s 89us/sample\n",
            "17197/17197 [==============================] - 2s 89us/sample\n"
          ],
          "name": "stdout"
        }
      ]
    }
  ]
}